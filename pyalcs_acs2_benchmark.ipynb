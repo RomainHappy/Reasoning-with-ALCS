{
 "cells": [
  {
   "cell_type": "code",
   "execution_count": null,
   "metadata": {
    "scrolled": false
   },
   "outputs": [],
   "source": [
    "# Logger\n",
    "import logging\n",
    "logging.basicConfig(level=logging.WARN)\n",
    "\n",
    "# Enable automatic module reload\n",
    "%load_ext autoreload\n",
    "%autoreload 2\n",
    "\n",
    "# Load PyALCS ACS2 module\n",
    "from lcs.agents.acs2 import ACS2, Configuration\n",
    "from bacs.agents.bacs.utils.GymMazeWrapper import _maze_metrics, parse_metrics_to_df, plot_performance\n",
    "\n",
    "# Load environments\n",
    "import gym\n",
    "import my_mazes\n",
    "\n",
    "# Allow to parallelize all benchmarks to do\n",
    "import parmap\n",
    "\n",
    "# For calculation standard deviation\n",
    "import statistics"
   ]
  },
  {
   "cell_type": "markdown",
   "metadata": {},
   "source": [
    "# Agent - ACS2 - BENCHMARKING"
   ]
  },
  {
   "cell_type": "markdown",
   "metadata": {},
   "source": [
    "## Main Parameters"
   ]
  },
  {
   "cell_type": "code",
   "execution_count": null,
   "metadata": {
    "scrolled": false
   },
   "outputs": [],
   "source": [
    "CLASSIFIER_LENGTH = 8\n",
    "NUMBER_OF_POSSIBLE_ACTIONS = 8\n",
    "\n",
    "NUMBER_OF_EXPLORE_TRIALS = 2000\n",
    "DO_ACTION_PLANNING_EXPLORE = False\n",
    "DO_GA_EXPLORE = False\n",
    "DO_SUBSUMPTION_EXPLORE = True\n",
    "BETA_EXPLORE = 0.025\n",
    "EPSILON = 0.3\n",
    "\n",
    "NUMBER_OF_EXPLOIT_TRIALS = 500\n",
    "DO_ACTION_PLANNING_EXPLOIT = False\n",
    "DO_SUBSUMPTION_EXPLOIT = True\n",
    "BETA_EXPLOIT = 0.00\n",
    "\n",
    "NUMBER_OF_ITERATIONS_TO_BENCH = 30"
   ]
  },
  {
   "cell_type": "markdown",
   "metadata": {},
   "source": [
    "## Full Details of Agent Parameters"
   ]
  },
  {
   "cell_type": "code",
   "execution_count": null,
   "metadata": {},
   "outputs": [],
   "source": [
    "cfg_explore = Configuration(\n",
    "    classifier_length=CLASSIFIER_LENGTH,\n",
    "    number_of_possible_actions=NUMBER_OF_POSSIBLE_ACTIONS,\n",
    "    user_metrics_collector_fcn=_maze_metrics,\n",
    "    metrics_trial_frequency=1,\n",
    "    do_ga=DO_GA_EXPLORE,\n",
    "    do_subsumption=DO_SUBSUMPTION_EXPLORE,\n",
    "    do_action_planning=DO_ACTION_PLANNING_EXPLORE,\n",
    "    action_planning_frequency=50,\n",
    "    beta=BETA_EXPLORE,\n",
    "    gamma=0.95,\n",
    "    theta_i=0.1,\n",
    "    theta_r=0.9,\n",
    "    epsilon=EPSILON,\n",
    "    u_max=CLASSIFIER_LENGTH,\n",
    "    theta_exp=20,\n",
    "    theta_ga=100,\n",
    "    theta_as=20,\n",
    "    mu=0.3,\n",
    "    chi=0.8\n",
    ")\n",
    "\n",
    "cfg_exploit = Configuration(\n",
    "    classifier_length=CLASSIFIER_LENGTH,\n",
    "    number_of_possible_actions=NUMBER_OF_POSSIBLE_ACTIONS,\n",
    "    user_metrics_collector_fcn=_maze_metrics,\n",
    "    metrics_trial_frequency=1,\n",
    "    do_ga=False,\n",
    "    do_subsumption=DO_SUBSUMPTION_EXPLOIT,\n",
    "    do_action_planning=DO_ACTION_PLANNING_EXPLOIT,\n",
    "    action_planning_frequency=50,\n",
    "    beta=BETA_EXPLOIT,\n",
    "    gamma=0.95,\n",
    "    theta_i=0.1,\n",
    "    theta_r=0.9,\n",
    "    epsilon=0.0,\n",
    "    u_max=CLASSIFIER_LENGTH,\n",
    "    theta_exp=20,\n",
    "    theta_ga=100,\n",
    "    theta_as=20,\n",
    "    mu=0.3,\n",
    "    chi=0.8\n",
    ")"
   ]
  },
  {
   "cell_type": "markdown",
   "metadata": {},
   "source": [
    "### Benchmarking - Maze"
   ]
  },
  {
   "cell_type": "code",
   "execution_count": null,
   "metadata": {
    "scrolled": false
   },
   "outputs": [],
   "source": [
    "def bench_on_maze(env,n):\n",
    "    avg_explore_list = []\n",
    "    avg_exploit_list = []\n",
    "    \n",
    "    for i in range(n):\n",
    "        \n",
    "        # Initialize environment\n",
    "        maze = gym.make(env.id)\n",
    "        \n",
    "        # Reset it, by putting an agent into random position\n",
    "        situation = maze.reset()\n",
    "    \n",
    "        # Training of ACS2 - Exploration\n",
    "        agent_explore = ACS2(cfg_explore)\n",
    "        population_explore, metrics_explore = agent_explore.explore(maze, NUMBER_OF_EXPLORE_TRIALS)\n",
    "    \n",
    "        # Using ACS2 - Exploitation\n",
    "        agent_exploit = ACS2(cfg_exploit, population_explore)\n",
    "        population_exploit, metrics_exploit = agent_exploit.exploit(maze, NUMBER_OF_EXPLOIT_TRIALS)\n",
    "\n",
    "        # Plotting performance\n",
    "        #metrics_df = parse_metrics_to_df(metrics_explore, metrics_exploit)\n",
    "        #plot_performance(agent_exploit, maze, metrics_df, cfg_exploit, env.id)\n",
    "        \n",
    "        # Get average in exploration\n",
    "        avg_step_explore = 0\n",
    "        for trial in metrics_explore:\n",
    "            avg_step_explore += trial['steps_in_trial']\n",
    "        avg_step_explore /= NUMBER_OF_EXPLORE_TRIALS\n",
    "        avg_explore_list.append(avg_step_explore)\n",
    "        \n",
    "        # Get average in exploitation\n",
    "        avg_step_exploit = 0\n",
    "        for trial in metrics_exploit:\n",
    "            avg_step_exploit += trial['steps_in_trial']\n",
    "        avg_step_exploit /= NUMBER_OF_EXPLOIT_TRIALS\n",
    "        avg_exploit_list.append(avg_step_exploit)\n",
    "        \n",
    "        print(env.id,'|','#' * (i+1) ,' ' * (n-(i+1)), '|')\n",
    "    \n",
    "    # Compute the maen and standard deviation\n",
    "    avg_explore = float(sum(avg_explore_list)) / n\n",
    "    std_explore = statistics.pstdev(avg_explore_list)\n",
    "    avg_exploit = float(sum(avg_exploit_list)) / n\n",
    "    std_exploit = statistics.pstdev(avg_exploit_list)\n",
    "    \n",
    "    result = {\n",
    "        'maze' : env.id,\n",
    "        'avg_explore' : avg_explore,\n",
    "        'std_explore' : std_explore,\n",
    "        'avg_exploit' : avg_exploit,\n",
    "        'std_exploit' : std_exploit,\n",
    "        'knowledge'   : metrics_exploit[-1]['knowledge'],\n",
    "        'population'  : metrics_exploit[-1]['population'],\n",
    "        'numerosity'  : metrics_exploit[-1]['numerosity'],\n",
    "        'reliable'    : metrics_exploit[-1]['reliable']\n",
    "    }\n",
    "    \n",
    "    print(result)\n",
    "    \n",
    "    return result"
   ]
  },
  {
   "cell_type": "markdown",
   "metadata": {},
   "source": [
    "Custom functions for getting available environments in Gym depending on the type of mazes :"
   ]
  },
  {
   "cell_type": "code",
   "execution_count": null,
   "metadata": {},
   "outputs": [],
   "source": [
    "filter_envs_typeIII = lambda env: env.id.startswith(\"Maze10-\") or env.id.startswith(\"MazeE\") \\\n",
    "    or env.id.startswith(\"Woods10\")\n",
    "\n",
    "filter_envs_typeII = lambda env: env.id.startswith(\"MazeF4\") or env.id.startswith(\"Maze7\") \\\n",
    "    or env.id.startswith(\"Sutton\") or env.id.startswith(\"MiyazakiB\") \\\n",
    "    or env.id.startswith(\"Lab1\")\n",
    "\n",
    "filter_envs_typeI = lambda env: env.id.startswith(\"MazeB\") or env.id.startswith(\"MazeD\") \\\n",
    "    or env.id.startswith(\"Littman\") or env.id.startswith(\"MiyazakiA\") \\\n",
    "    or env.id.startswith(\"Cassandra\")\n",
    "\n",
    "filter_envs_na = lambda env: env.id.startswith(\"MazeF1\") or env.id.startswith(\"MazeF2\") \\\n",
    "    or env.id.startswith(\"MazeF3\") or env.id.startswith(\"Woods1-\") \\\n",
    "    or env.id.startswith(\"Woods14\") or env.id.startswith(\"Maze4\") \\\n",
    "    or env.id.startswith(\"Maze5\") or env.id.startswith(\"MazeA\")\n",
    "\n",
    "all_envs = [env for env in gym.envs.registry.all()]"
   ]
  },
  {
   "cell_type": "markdown",
   "metadata": {},
   "source": [
    "Benchmarking without the genetic algorithms on mazes :"
   ]
  },
  {
   "cell_type": "code",
   "execution_count": null,
   "metadata": {
    "scrolled": false
   },
   "outputs": [],
   "source": [
    "maze_envs = [env for env in all_envs if filter_envs_na(env) or filter_envs_typeI(env) or filter_envs_typeII(env) or filter_envs_typeIII(env)]\n",
    "\n",
    "parmap.map(bench_on_maze, maze_envs, NUMBER_OF_ITERATIONS_TO_BENCH, pm_pbar=True, pm_processes=16)"
   ]
  },
  {
   "cell_type": "markdown",
   "metadata": {},
   "source": [
    "Benchmarking with the genetic algorithms :"
   ]
  },
  {
   "cell_type": "code",
   "execution_count": null,
   "metadata": {},
   "outputs": [],
   "source": [
    "cfg_explore.do_ga = True\n",
    "\n",
    "maze_envs = [env for env in all_envs if filter_envs_na(env) or filter_envs_typeI(env) or filter_envs_typeII(env) or filter_envs_typeIII(env)]\n",
    "\n",
    "parmap.map(bench_on_maze, maze_envs, NUMBER_OF_ITERATIONS_TO_BENCH, pm_pbar=True, pm_processes=16)"
   ]
  },
  {
   "cell_type": "markdown",
   "metadata": {},
   "source": [
    "### Last results\n",
    " \n",
    "The parameters used are:\n",
    " \n",
    "- no use of action planning\n",
    "- use of subsumption in the anticipatory learning process\n",
    "- use od subsumption in the genetic algorithm is this last one is used\n",
    "- $\\gamma$ = 0.95\n",
    "- $\\theta_i$ = 0.1\n",
    "- $\\theta_r$ = 0.9\n",
    "- $u_{max}$ = 8 (length of the classifier)\n",
    "- $\\theta_{exp}$ = 20\n",
    "- $\\beta$ = 0.025\n",
    "- $\\epsilon$ = 0.3\n",
    " \n",
    "If genetic algorithms are used:\n",
    "\n",
    "- $\\theta_{ga}$ = 100\n",
    "- $\\theta_{as}$ = 20\n",
    "- $\\mu$ = 0.3\n",
    "- $\\chi$ = 0.8,\n",
    " \n",
    " For 2000 trials in Exploration and 500 trials in Exploitation for all environments, computed 30 times for calculating all averages.\n",
    " \n",
    " \n",
    "| | Exploration Avg W/out GA | Exploration Std W/out GA | Exploitation Avg W/out GA | Exploitation Std W/out GA | Exploration Avg W/ GA | Exploration Std W/ GA | Exploitation Avg W/ GA | Exploitation Std W/ GA |\n",
    "|------------|:-----:|:-----:|:----:|:----:|:----:|:----:|:----:|:----:|\n",
    "|**Type III**     |||||||||\n",
    "|MazeE2      | 25.17 | 1.332 | 60.33 | 4.575 | 31.22 | 3.782 | 73.74 | 4.211 |\n",
    "|Woods101demi| 26.50 | 1.141 | 66.52 | 2.375 | 33.75 | 3.289 | 72.05 | 7.434 |\n",
    "|Maze10      | 55.02 | 1.832 | 76.56 | 9.228 | 79.00 | 2.248 | 94.56 | 1.085 |\n",
    "|Woods102    | 21.93 | 1.401 | 54.18 | 8.206 | 42.10 | 4.218 | 85.45 | 10.37 |\n",
    "|Woods100    | 8.594 | 0.331 | 34.83 | 2.002 | 10.93 | 1.620 | 34.63 | 1.922 |\n",
    "|Woods101    | 13.03 | 0.760 | 41.27 | 2.081 | 24.99 | 3.489 | 57.61 | 22.14 |\n",
    "|MazeE1      | 11.63 | 27.47 | 1.585 | 9.264 | 17.38 | 3.555 | 57.56 | 12.90 |\n",
    "|**Type II**      |||||||||\n",
    "|MazeF4      | 51.39 | 12.77 | 42.49 | 17.94 | 46.86 | 10.29 | 53.90 | 24.13 |\n",
    "|Maze7       | 54.26 | 9.730 | 49.51 | 12.44 | 43.99 | 11.46 | 50.72 | 23.69 |\n",
    "|Sutton      | 57.33 | 19.85 | 63.96 | 16.45 | 81.13 | 9.729 | 90.43 | 11.75 |\n",
    "|Lab1        | 99,71 | 0.531 | 100.0 | 0.000 | 99.62 | 0.648 | 100.0 | 0.000 |\n",
    "|MiyazakiB   | 10.57 | 2.333 | 4.417 | 1.724 | 41.69 | 11.24 | 68.37 | 36.96 |\n",
    "|**Type I**       |||||||||\n",
    "|MazeB       | 17.79 | 3.767 | 19.13 | 31.72 | 35.38 | 6.805 | 93.80 | 23.20 |\n",
    "|Littman89   | 9.144 | 2.154 | 7.343 | 7.404 | 16.14 | 4.584 | 28.71 | 21.20 |\n",
    "|MiyazakiA   | 7.433 | 1.025 | 3.967 | 1.682 | 11.32 | 5.081 | 36.36 | 28.61 |\n",
    "|MazeD       | 9.900 | 2.025 | 4.700 | 1.038 | 19.53 | 5.741 | 52.90 | 47.11 |\n",
    "|Cassandra4x4| 4.906 | 0.594 | 4.330 | 7.247 | 7.126 | 2.803 | 26.82 | 31.40 |\n",
    "|Littman57   | 7.791 | 3.017 | 7.367 | 13.16 | 34.40 | 17.43 | 75.20 | 8.331 |\n",
    "|**Non Aliased**|||||||||\n",
    "|Maze4       | 9.098 | 1.672 | 4.247 | 0.387 | 14.18 | 6.714 | 23.97 | 26.55 |\n",
    "|Maze5       | 13.73 | 1.707 | 5.982 | 1.533 | 27.05 | 11.14 | 49.78 | 30.55 |\n",
    "|MazeA       | 17.90 | 7.791 | 7.667 | 1.043 | 59.44 | 9.784 | 78.77 | 38.50 |\n",
    "|MazeF1      | 3.271 | 0.404 | 2.137 | 0.292 | 6.903 | 3.890 | 20.35 | 31.97 |\n",
    "|MazeF2      | 5.118 | 1.979 | 2.737 | 0.205 | 9.850 | 4.802 | 22.91 | 28.98 |\n",
    "|MazeF3      | 6.302 | 0.436 | 3.575 | 0.259 | 21.16 | 9.684 | 31.85 | 34.34 |\n",
    "|Woods1      | 3.403 | 0.511 | 2.190 | 0.301 | 3.876 | 1.500 | 10.02 | 20.67 |\n",
    "|Woods14     | 35.05 | 10.28 | 10.95 | 5.687 | 65.24 | 11.65 | 70.19 | 23.65 |\n"
   ]
  },
  {
   "cell_type": "markdown",
   "metadata": {},
   "source": [
    "### Complexity and Optimal Performance by Maze\n",
    "\n",
    "These to measures come from Zatuchna and Bagnall paper :\n",
    "\n",
    "> Zhanna V. Zatuchna and Anthony Bagnall. 2009. Learning Mazes with Aliasing States: An LCS Algorithm with Associative Perception. Adaptive Behavior - Animals, Animats, Software Agents, Robots, Adaptive Systems 17, 1 (February 2009), 28-57. DOI=http://dx.doi.org/10.1177/1059712308099230\n",
    "\n",
    "$\\phi$ is about the average distance to reward in maze. Its calculation depends mainly on the type of maze. Here is reported $\\phi$' if the maze is aliased, the original $\\phi$ otherwise.\n",
    "\n",
    "$\\psi$ is about the complexity of the maze that depends on the average distance to reward and on the average steps taken by trained Q-learning.\n",
    "\n",
    "The question marks (**?**) highlight some discrepancies present in the original paper.\n",
    "\n",
    "The asterisks (**\\***) indicate pieces of information were not provided.\n",
    "\n",
    "For further details, please see the original paper.\n",
    "\n",
    "#### For Type III Aliased Mazes\n",
    "\n",
    "|       |MazeE2      |Woods101demi|Maze10      |Woods102    |Woods100    |Woods101    |MazeE1       |\n",
    "|-------|:----------:|:----------:|:----------:|:----------:|:----------:|:----------:|:-----------:|\n",
    "|$\\phi$'|2.33        |3.1         |5.17        |3.31        |2.33        |2.9         |3.07         |\n",
    "|$\\psi$ |251.2       |251 **?**   |171         |167         |166         |149         |167 **?**    |\n",
    "\n",
    "#### For Type II Aliased Mazes\n",
    "\n",
    "|       |MazeF4      |Maze7       |Sutton      |Lab1        |MiyazakiB   |\n",
    "|-------|:----------:|:----------:|:----------:|:----------:|:----------:|\n",
    "|$\\phi$'|4.5 **?**   |4.33        |Sutton      |Lab1        |3.33        |\n",
    "|$\\psi$ |47 **?**    |82 **?**    | **?**      | **?**      |1.03        |\n",
    "\n",
    "#### For Type I Aliased Mazes\n",
    "\n",
    "|       |MazeB       |Littman89   |MiyazakiA   |MazeD       |Cassandra4x4|Littman57   |\n",
    "|-------|:----------:|:----------:|:----------:|:----------:|:----------:|:----------:|\n",
    "|$\\phi$'|3.5         |3.77        |3.05        |2.75        |2.27        |3.71        |\n",
    "|$\\psi$ |1.26        |61 **?**    |69 **?**    |1.03        |1           |154 **?**   |\n",
    "\n",
    "#### For Non Aliased Mazes\n",
    "\n",
    "|       |Maze4       |Maze5       |MazeA       |MazeF1      |MazeF2      |MazeF3      |Woods1      |Woods14     |\n",
    "|-------|:----------:|:----------:|:----------:|:----------:|:----------:|:----------:|:----------:|:----------:|\n",
    "|$\\phi$ |3.5         |4.61        |4.23        |1.8         |2.5         |3.38        |1.63        |9.5         |\n",
    "|$\\psi$ | **\\***     | **\\***     | **\\***     | **\\***     | **\\***     | **\\***     | **\\***     | **\\***     |"
   ]
  }
 ],
 "metadata": {
  "kernelspec": {
   "display_name": "Python 3",
   "language": "python",
   "name": "python3"
  },
  "language_info": {
   "codemirror_mode": {
    "name": "ipython",
    "version": 3
   },
   "file_extension": ".py",
   "mimetype": "text/x-python",
   "name": "python",
   "nbconvert_exporter": "python",
   "pygments_lexer": "ipython3",
   "version": "3.7.4"
  }
 },
 "nbformat": 4,
 "nbformat_minor": 1
}
