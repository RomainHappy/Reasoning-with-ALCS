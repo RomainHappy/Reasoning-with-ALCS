{
 "cells": [
  {
   "cell_type": "code",
   "execution_count": 1,
   "metadata": {
    "scrolled": false
   },
   "outputs": [],
   "source": [
    "# Logger\n",
    "import logging\n",
    "logging.basicConfig(level=logging.WARN)\n",
    "\n",
    "# Enable automatic module reload\n",
    "%load_ext autoreload\n",
    "%autoreload 2\n",
    "\n",
    "# Load PyALCS ACS2 module\n",
    "from lcs.agents.acs2 import ACS2, Configuration\n",
    "from bacs.agents.bacs.utils.GymMazeWrapper import _maze_metrics, parse_metrics_to_df, plot_performance\n",
    "\n",
    "# Load environments\n",
    "import gym\n",
    "import my_mazes\n",
    "\n",
    "# Allow to parallelize all benchmarks to do\n",
    "import parmap\n",
    "\n",
    "# For calculation standard deviation\n",
    "import statistics"
   ]
  },
  {
   "cell_type": "markdown",
   "metadata": {},
   "source": [
    "# Agent - ACS2 - BENCHMARKING"
   ]
  },
  {
   "cell_type": "markdown",
   "metadata": {},
   "source": [
    "## Main Parameters"
   ]
  },
  {
   "cell_type": "code",
   "execution_count": 2,
   "metadata": {
    "scrolled": false
   },
   "outputs": [],
   "source": [
    "CLASSIFIER_LENGTH = 8\n",
    "NUMBER_OF_POSSIBLE_ACTIONS = 8\n",
    "\n",
    "NUMBER_OF_EXPLORE_TRIALS = 2000\n",
    "DO_ACTION_PLANNING_EXPLORE = False\n",
    "DO_GA_EXPLORE = False\n",
    "DO_SUBSUMPTION_EXPLORE = True\n",
    "BETA_EXPLORE = 0.025\n",
    "EPSILON = 0.3\n",
    "\n",
    "NUMBER_OF_EXPLOIT_TRIALS = 500\n",
    "DO_ACTION_PLANNING_EXPLOIT = False\n",
    "DO_SUBSUMPTION_EXPLOIT = True\n",
    "BETA_EXPLOIT = 0.00\n",
    "\n",
    "NUMBER_OF_ITERATIONS_TO_BENCH = 30"
   ]
  },
  {
   "cell_type": "markdown",
   "metadata": {},
   "source": [
    "## Full Details of Agent Parameters"
   ]
  },
  {
   "cell_type": "code",
   "execution_count": 3,
   "metadata": {},
   "outputs": [],
   "source": [
    "cfg_explore = Configuration(\n",
    "    classifier_length=CLASSIFIER_LENGTH,\n",
    "    number_of_possible_actions=NUMBER_OF_POSSIBLE_ACTIONS,\n",
    "    user_metrics_collector_fcn=_maze_metrics,\n",
    "    metrics_trial_frequency=1,\n",
    "    do_ga=DO_GA_EXPLORE,\n",
    "    do_subsumption=DO_SUBSUMPTION_EXPLORE,\n",
    "    do_action_planning=DO_ACTION_PLANNING_EXPLORE,\n",
    "    action_planning_frequency=50,\n",
    "    beta=BETA_EXPLORE,\n",
    "    gamma=0.95,\n",
    "    theta_i=0.1,\n",
    "    theta_r=0.9,\n",
    "    epsilon=EPSILON,\n",
    "    u_max=CLASSIFIER_LENGTH,\n",
    "    theta_exp=20,\n",
    "    theta_ga=100,\n",
    "    theta_as=20,\n",
    "    mu=0.3,\n",
    "    chi=0.8\n",
    ")\n",
    "\n",
    "cfg_exploit = Configuration(\n",
    "    classifier_length=CLASSIFIER_LENGTH,\n",
    "    number_of_possible_actions=NUMBER_OF_POSSIBLE_ACTIONS,\n",
    "    user_metrics_collector_fcn=_maze_metrics,\n",
    "    metrics_trial_frequency=1,\n",
    "    do_ga=False,\n",
    "    do_subsumption=DO_SUBSUMPTION_EXPLOIT,\n",
    "    do_action_planning=DO_ACTION_PLANNING_EXPLOIT,\n",
    "    action_planning_frequency=50,\n",
    "    beta=BETA_EXPLOIT,\n",
    "    gamma=0.95,\n",
    "    theta_i=0.1,\n",
    "    theta_r=0.9,\n",
    "    epsilon=0.0,\n",
    "    u_max=CLASSIFIER_LENGTH,\n",
    "    theta_exp=20,\n",
    "    theta_ga=100,\n",
    "    theta_as=20,\n",
    "    mu=0.3,\n",
    "    chi=0.8\n",
    ")"
   ]
  },
  {
   "cell_type": "markdown",
   "metadata": {},
   "source": [
    "### Benchmarking - Maze"
   ]
  },
  {
   "cell_type": "code",
   "execution_count": 4,
   "metadata": {
    "scrolled": false
   },
   "outputs": [],
   "source": [
    "def bench_on_maze(env,n):\n",
    "    avg_explore_list = []\n",
    "    avg_exploit_list = []\n",
    "    \n",
    "    for i in range(n):\n",
    "        \n",
    "        # Initialize environment\n",
    "        maze = gym.make(env.id)\n",
    "        \n",
    "        # Reset it, by putting an agent into random position\n",
    "        situation = maze.reset()\n",
    "    \n",
    "        # Training of ACS2 - Exploration\n",
    "        agent_explore = ACS2(cfg_explore)\n",
    "        population_explore, metrics_explore = agent_explore.explore(maze, NUMBER_OF_EXPLORE_TRIALS)\n",
    "    \n",
    "        # Using ACS2 - Exploitation\n",
    "        agent_exploit = ACS2(cfg_exploit, population_explore)\n",
    "        population_exploit, metrics_exploit = agent_exploit.exploit(maze, NUMBER_OF_EXPLOIT_TRIALS)\n",
    "\n",
    "        # Plotting performance\n",
    "        #metrics_df = parse_metrics_to_df(metrics_explore, metrics_exploit)\n",
    "        #plot_performance(agent_exploit, maze, metrics_df, cfg_exploit, env.id)\n",
    "        \n",
    "        # Get average in exploration\n",
    "        avg_step_explore = 0\n",
    "        for trial in metrics_explore:\n",
    "            avg_step_explore += trial['steps_in_trial']\n",
    "        avg_step_explore /= NUMBER_OF_EXPLORE_TRIALS\n",
    "        avg_explore_list.append(avg_step_explore)\n",
    "        \n",
    "        # Get average in exploitation\n",
    "        avg_step_exploit = 0\n",
    "        for trial in metrics_exploit:\n",
    "            avg_step_exploit += trial['steps_in_trial']\n",
    "        avg_step_exploit /= NUMBER_OF_EXPLOIT_TRIALS\n",
    "        avg_exploit_list.append(avg_step_exploit)\n",
    "        \n",
    "        # Get other metrics\n",
    "        knowledge_list.append(metrics_exploit[-1]['knowledge'])\n",
    "        population_list.append(metrics_exploit[-1]['population'])\n",
    "        numerosity_list.append(metrics_exploit[-1]['numerosity'])\n",
    "        reliable_list.append(metrics_exploit[-1]['reliable'])\n",
    "        \n",
    "        print(env.id,'|','#' * (i+1) ,' ' * (n-(i+1)), '|')\n",
    "    \n",
    "    # Compute the means and standard deviations\n",
    "    avg_explore = float(sum(avg_explore_list)) / n\n",
    "    std_explore = statistics.pstdev(avg_explore_list)\n",
    "    avg_exploit = float(sum(avg_exploit_list)) / n\n",
    "    std_exploit = statistics.pstdev(avg_exploit_list)\n",
    "    avg_knowledge = float(sum(knowledge_list)) / n\n",
    "    std_knowledge = statistics.pstdev(knowledge_list)\n",
    "    avg_population = float(sum(population_list)) / n\n",
    "    std_population = statistics.pstdev(population_list)\n",
    "    avg_numerosity = float(sum(numerosity_list)) / n\n",
    "    std_numerosity = statistics.pstdev(numerosity_list)\n",
    "    avg_reliable = float(sum(reliable_list)) / n\n",
    "    std_reliable = statistics.pstdev(reliable_list)\n",
    "    \n",
    "    result = {\n",
    "        'maze'             : env.id,\n",
    "        'avg_explore'      : avg_explore,\n",
    "        'std_explore'      : std_explore,\n",
    "        'avg_exploit'      : avg_exploit,\n",
    "        'std_exploit'      : std_exploit,\n",
    "        'avg_knowledge'    : avg_knowledge,\n",
    "        'std_knowledge'    : std_knowledge,\n",
    "        'avg_population'   : avg_population,\n",
    "        'std_population'   : std_population,\n",
    "        'avg_numerosity'   : avg_numerosity,\n",
    "        'std_numerosity'   : std_numerosity,\n",
    "        'avg_reliable'     : avg_reliable,\n",
    "        'std_reliable'     : std_reliable,\n",
    "        'avg_exploit_list' : avg_exploit_list\n",
    "    }\n",
    "    \n",
    "    print(result)\n",
    "    \n",
    "    return result"
   ]
  },
  {
   "cell_type": "markdown",
   "metadata": {},
   "source": [
    "Custom functions for getting available environments in Gym depending on the type of mazes :"
   ]
  },
  {
   "cell_type": "code",
   "execution_count": 5,
   "metadata": {},
   "outputs": [],
   "source": [
    "filter_envs_typeIII = lambda env: env.id.startswith(\"Maze10-\") or env.id.startswith(\"MazeE\") \\\n",
    "    or env.id.startswith(\"Woods10\")\n",
    "\n",
    "filter_envs_typeII = lambda env: env.id.startswith(\"MazeF4\") or env.id.startswith(\"Maze7\") \\\n",
    "    or env.id.startswith(\"Sutton\") or env.id.startswith(\"MiyazakiB\") \\\n",
    "    or env.id.startswith(\"Lab1\")\n",
    "\n",
    "filter_envs_typeI = lambda env: env.id.startswith(\"MazeB\") or env.id.startswith(\"MazeD\") \\\n",
    "    or env.id.startswith(\"Littman\") or env.id.startswith(\"MiyazakiA\") \\\n",
    "    or env.id.startswith(\"Cassandra\")\n",
    "\n",
    "filter_envs_na = lambda env: env.id.startswith(\"MazeF1\") or env.id.startswith(\"MazeF2\") \\\n",
    "    or env.id.startswith(\"MazeF3\") or env.id.startswith(\"Woods1-\") \\\n",
    "    or env.id.startswith(\"Woods14\") or env.id.startswith(\"Maze4\") \\\n",
    "    or env.id.startswith(\"Maze5\") or env.id.startswith(\"MazeA\")\n",
    "\n",
    "all_envs = [env for env in gym.envs.registry.all()]"
   ]
  },
  {
   "cell_type": "markdown",
   "metadata": {},
   "source": [
    "Benchmarking without the genetic algorithms on mazes :"
   ]
  },
  {
   "cell_type": "code",
   "execution_count": 6,
   "metadata": {
    "scrolled": false
   },
   "outputs": [
    {
     "name": "stderr",
     "output_type": "stream",
     "text": [
      "888it [00:00, 14182.52it/s]            \n"
     ]
    },
    {
     "ename": "AssertionError",
     "evalue": "",
     "output_type": "error",
     "traceback": [
      "\u001b[0;31m---------------------------------------------------------------------------\u001b[0m",
      "\u001b[0;31mRemoteTraceback\u001b[0m                           Traceback (most recent call last)",
      "\u001b[0;31mRemoteTraceback\u001b[0m: \n\"\"\"\nTraceback (most recent call last):\n  File \"/home/orhand/.conda/envs/romain/lib/python3.7/multiprocessing/pool.py\", line 121, in worker\n    result = (True, func(*args, **kwds))\n  File \"/home/orhand/.conda/envs/romain/lib/python3.7/multiprocessing/pool.py\", line 44, in mapstar\n    return list(map(*args))\n  File \"/home/orhand/.conda/envs/romain/lib/python3.7/site-packages/parmap/parmap.py\", line 105, in _func_star_single\n    **func_item_args[3])\n  File \"<ipython-input-4-191545f7e77d>\", line 15, in bench_on_maze\n    population_explore, metrics_explore = agent_explore.explore(maze, NUMBER_OF_EXPLORE_TRIALS)\n  File \"/home/orhand/.conda/envs/romain/lib/python3.7/site-packages/lcs/agents/Agent.py\", line 42, in explore\n    return self._evaluate(env, trials, self._run_trial_explore)\n  File \"/home/orhand/.conda/envs/romain/lib/python3.7/site-packages/lcs/agents/Agent.py\", line 112, in _evaluate\n    steps_in_trial, reward = func(env, steps, current_trial)\n  File \"/home/orhand/.conda/envs/romain/lib/python3.7/site-packages/lcs/agents/acs2/ACS2.py\", line 98, in _run_trial_explore\n    raw_state, last_reward, done, _ = env.step(iaction)\n  File \"/home/orhand/.conda/envs/romain/lib/python3.7/site-packages/gym/wrappers/time_limit.py\", line 16, in step\n    observation, reward, done, info = self.env.step(action)\n  File \"/home/orhand/.conda/envs/romain/lib/python3.7/site-packages/gym/envs/algorithmic/algorithmic_env.py\", line 163, in step\n    assert self.action_space.contains(action)\nAssertionError\n\"\"\"",
      "\nThe above exception was the direct cause of the following exception:\n",
      "\u001b[0;31mAssertionError\u001b[0m                            Traceback (most recent call last)",
      "\u001b[0;32m<ipython-input-6-a270fcbeec73>\u001b[0m in \u001b[0;36m<module>\u001b[0;34m\u001b[0m\n\u001b[1;32m      2\u001b[0m \u001b[0mmaze_envs\u001b[0m \u001b[0;34m=\u001b[0m \u001b[0;34m[\u001b[0m\u001b[0menv\u001b[0m \u001b[0;32mfor\u001b[0m \u001b[0menv\u001b[0m \u001b[0;32min\u001b[0m \u001b[0mall_envs\u001b[0m \u001b[0;32mif\u001b[0m \u001b[0;34m(\u001b[0m\u001b[0;34m\"Woods1-\"\u001b[0m\u001b[0;34m)\u001b[0m\u001b[0;34m]\u001b[0m\u001b[0;34m\u001b[0m\u001b[0;34m\u001b[0m\u001b[0m\n\u001b[1;32m      3\u001b[0m \u001b[0;34m\u001b[0m\u001b[0m\n\u001b[0;32m----> 4\u001b[0;31m \u001b[0mresults\u001b[0m \u001b[0;34m=\u001b[0m \u001b[0mparmap\u001b[0m\u001b[0;34m.\u001b[0m\u001b[0mmap\u001b[0m\u001b[0;34m(\u001b[0m\u001b[0mbench_on_maze\u001b[0m\u001b[0;34m,\u001b[0m \u001b[0mmaze_envs\u001b[0m\u001b[0;34m,\u001b[0m \u001b[0mNUMBER_OF_ITERATIONS_TO_BENCH\u001b[0m\u001b[0;34m,\u001b[0m \u001b[0mpm_pbar\u001b[0m\u001b[0;34m=\u001b[0m\u001b[0;32mTrue\u001b[0m\u001b[0;34m,\u001b[0m \u001b[0mpm_processes\u001b[0m\u001b[0;34m=\u001b[0m\u001b[0;36m1\u001b[0m\u001b[0;34m)\u001b[0m\u001b[0;34m\u001b[0m\u001b[0;34m\u001b[0m\u001b[0m\n\u001b[0m",
      "\u001b[0;32m~/.conda/envs/romain/lib/python3.7/site-packages/parmap/parmap.py\u001b[0m in \u001b[0;36mmap\u001b[0;34m(function, iterable, *args, **kwargs)\u001b[0m\n\u001b[1;32m    302\u001b[0m        \u001b[0;34m:\u001b[0m\u001b[0mtype\u001b[0m \u001b[0mpm_pbar\u001b[0m\u001b[0;34m:\u001b[0m \u001b[0mbool\u001b[0m\u001b[0;34m\u001b[0m\u001b[0;34m\u001b[0m\u001b[0m\n\u001b[1;32m    303\u001b[0m     \"\"\"\n\u001b[0;32m--> 304\u001b[0;31m     \u001b[0;32mreturn\u001b[0m \u001b[0m_map_or_starmap\u001b[0m\u001b[0;34m(\u001b[0m\u001b[0mfunction\u001b[0m\u001b[0;34m,\u001b[0m \u001b[0miterable\u001b[0m\u001b[0;34m,\u001b[0m \u001b[0margs\u001b[0m\u001b[0;34m,\u001b[0m \u001b[0mkwargs\u001b[0m\u001b[0;34m,\u001b[0m \u001b[0;34m\"map\"\u001b[0m\u001b[0;34m)\u001b[0m\u001b[0;34m\u001b[0m\u001b[0;34m\u001b[0m\u001b[0m\n\u001b[0m\u001b[1;32m    305\u001b[0m \u001b[0;34m\u001b[0m\u001b[0m\n\u001b[1;32m    306\u001b[0m \u001b[0;34m\u001b[0m\u001b[0m\n",
      "\u001b[0;32m~/.conda/envs/romain/lib/python3.7/site-packages/parmap/parmap.py\u001b[0m in \u001b[0;36m_map_or_starmap\u001b[0;34m(function, iterable, args, kwargs, map_or_starmap)\u001b[0m\n\u001b[1;32m    280\u001b[0m         \u001b[0m_do_pbar\u001b[0m\u001b[0;34m(\u001b[0m\u001b[0mresult\u001b[0m\u001b[0;34m,\u001b[0m \u001b[0mnum_tasks\u001b[0m\u001b[0;34m,\u001b[0m \u001b[0mchunksize\u001b[0m\u001b[0;34m)\u001b[0m\u001b[0;34m\u001b[0m\u001b[0;34m\u001b[0m\u001b[0m\n\u001b[1;32m    281\u001b[0m     \u001b[0;32mfinally\u001b[0m\u001b[0;34m:\u001b[0m\u001b[0;34m\u001b[0m\u001b[0;34m\u001b[0m\u001b[0m\n\u001b[0;32m--> 282\u001b[0;31m         \u001b[0moutput\u001b[0m \u001b[0;34m=\u001b[0m \u001b[0mresult\u001b[0m\u001b[0;34m.\u001b[0m\u001b[0mget\u001b[0m\u001b[0;34m(\u001b[0m\u001b[0;34m)\u001b[0m\u001b[0;34m\u001b[0m\u001b[0;34m\u001b[0m\u001b[0m\n\u001b[0m\u001b[1;32m    283\u001b[0m         \u001b[0;32mif\u001b[0m \u001b[0mclose_pool\u001b[0m\u001b[0;34m:\u001b[0m\u001b[0;34m\u001b[0m\u001b[0;34m\u001b[0m\u001b[0m\n\u001b[1;32m    284\u001b[0m             \u001b[0mpool\u001b[0m\u001b[0;34m.\u001b[0m\u001b[0mjoin\u001b[0m\u001b[0;34m(\u001b[0m\u001b[0;34m)\u001b[0m\u001b[0;34m\u001b[0m\u001b[0;34m\u001b[0m\u001b[0m\n",
      "\u001b[0;32m~/.conda/envs/romain/lib/python3.7/multiprocessing/pool.py\u001b[0m in \u001b[0;36mget\u001b[0;34m(self, timeout)\u001b[0m\n\u001b[1;32m    655\u001b[0m             \u001b[0;32mreturn\u001b[0m \u001b[0mself\u001b[0m\u001b[0;34m.\u001b[0m\u001b[0m_value\u001b[0m\u001b[0;34m\u001b[0m\u001b[0;34m\u001b[0m\u001b[0m\n\u001b[1;32m    656\u001b[0m         \u001b[0;32melse\u001b[0m\u001b[0;34m:\u001b[0m\u001b[0;34m\u001b[0m\u001b[0;34m\u001b[0m\u001b[0m\n\u001b[0;32m--> 657\u001b[0;31m             \u001b[0;32mraise\u001b[0m \u001b[0mself\u001b[0m\u001b[0;34m.\u001b[0m\u001b[0m_value\u001b[0m\u001b[0;34m\u001b[0m\u001b[0;34m\u001b[0m\u001b[0m\n\u001b[0m\u001b[1;32m    658\u001b[0m \u001b[0;34m\u001b[0m\u001b[0m\n\u001b[1;32m    659\u001b[0m     \u001b[0;32mdef\u001b[0m \u001b[0m_set\u001b[0m\u001b[0;34m(\u001b[0m\u001b[0mself\u001b[0m\u001b[0;34m,\u001b[0m \u001b[0mi\u001b[0m\u001b[0;34m,\u001b[0m \u001b[0mobj\u001b[0m\u001b[0;34m)\u001b[0m\u001b[0;34m:\u001b[0m\u001b[0;34m\u001b[0m\u001b[0;34m\u001b[0m\u001b[0m\n",
      "\u001b[0;31mAssertionError\u001b[0m: "
     ]
    }
   ],
   "source": [
    "#maze_envs = [env for env in all_envs if filter_envs_na(env) or filter_envs_typeI(env) or filter_envs_typeII(env) or filter_envs_typeIII(env)]\n",
    "maze_envs = [env for env in all_envs if (\"Woods1-\")]\n",
    "\n",
    "results = parmap.map(bench_on_maze, maze_envs, NUMBER_OF_ITERATIONS_TO_BENCH, pm_pbar=True, pm_processes=1)"
   ]
  },
  {
   "cell_type": "markdown",
   "metadata": {},
   "source": [
    "Parsing the previous result to get a markdown string for each environment :"
   ]
  },
  {
   "cell_type": "code",
   "execution_count": null,
   "metadata": {},
   "outputs": [],
   "source": [
    "markdown_str = ''\n",
    "for item in results:\n",
    "    markdown_str += '|' + item['maze'] + '|'\n",
    "    markdown_str += \"{:.2f}\".format(item['avg_explore']) + '|'\n",
    "    markdown_str += \"{:.2f}\".format(item['std_explore']) + '|'\n",
    "    markdown_str += \"{:.2f}\".format(item['avg_exploit']) + '|'\n",
    "    markdown_str += \"{:.2f}\".format(item['std_exploit']) + '|'\n",
    "    markdown_str += \"{:.2f}\".format(min(item['avg_exploit_list'])) + '|'\n",
    "    markdown_str += \"{:.2f}\".format(max(item['avg_exploit_list'])) + '|'\n",
    "    markdown_str += '0' + '|'\n",
    "    markdown_str += \"{:.2f}\".format(item['avg_knowledge']) + '|'\n",
    "    markdown_str += \"{:.2f}\".format(item['std_knowledge']) + '|'\n",
    "    markdown_str += \"{:.2f}\".format(item['avg_population']) + '|'\n",
    "    markdown_str += \"{:.2f}\".format(item['std_population']) + '|'\n",
    "    markdown_str += \"{:.2f}\".format(item['avg_reliable']) + '|'\n",
    "    markdown_str += \"{:.2f}\".format(item['std_reliable']) + '|'\n",
    "    markdown_str += '\\n'\n",
    "print(markdown_str)"
   ]
  },
  {
   "cell_type": "markdown",
   "metadata": {},
   "source": [
    "### Last results\n",
    " \n",
    "The parameters used are:\n",
    " \n",
    "- no use of action planning\n",
    "- use of subsumption in the anticipatory learning process\n",
    "- use od subsumption in the genetic algorithm is this last one is used\n",
    "- $\\gamma$ = 0.95\n",
    "- $\\theta_i$ = 0.1\n",
    "- $\\theta_r$ = 0.9\n",
    "- $u_{max}$ = 8 (length of the classifier)\n",
    "- $\\theta_{exp}$ = 20\n",
    "- $\\beta$ = 0.025\n",
    "- $\\epsilon$ = 0.3\n",
    " \n",
    "If genetic algorithms are used:\n",
    "\n",
    "- $\\theta_{ga}$ = 100\n",
    "- $\\theta_{as}$ = 20\n",
    "- $\\mu$ = 0.3\n",
    "- $\\chi$ = 0.8,\n",
    " \n",
    " For 2000 trials in Exploration and 500 trials in Exploitation for all environments, computed 30 times for calculating all averages.\n",
    " \n",
    " \n",
    "| | Exploration Avg | Exploration Std | Exploration Avg | Exploration Std | Best Exploration | Worst Exploration | Successful tries | Knowledge Avg | Knowledge Std | Population Avg | Population Std | Reliable Avg | Reliable Std |\n",
    "|------------|:-----:|:-----:|:----:|:----:|:----:|:----:|:----:|:----:|:----:|:----:|:----:|:----:|:----:|\n",
    "|**Type III**     ||||||||||||||\n",
    "|MazeE2-v0|14.64|1.40|19.32|19.14|4.12|76.06|0|20.77|1.86|1676.53|136.91|69.30|7.76|\n",
    "|Woods101demi-v0|10.41|1.60|20.34|11.51|3.44|43.52|5|50.24|1.78|464.90|41.69|30.63|2.89|\n",
    "|Maze10-v0|53.48|1.47|76.63|10.97|53.01|95.21|0|65.53|1.68|157.00|13.62|34.70|3.48|\n",
    "|Woods102-v0|12.28|3.51|18.44|12.34|3.34|40.71|6|43.17|4.38|563.43|51.84|37.00|4.02|\n",
    "|Woods100-v0|3.91|0.23|2.34|0.05|2.26|2.43|30|60.33|1.80|23.53|2.35|6.43|0.56|\n",
    "|Woods101-v0|10.85|0.83|23.92|21.08|3.65|71.55|2|62.47|2.66|125.00|15.22|22.93|1.53|\n",
    "|MazeE1-v0|12.46|1.87|20.73|10.78|5.51|45.05|0|19.94|3.45|1898.33|173.83|82.53|18.32|\n",
    "|**Type II**      ||||||||||||||\n",
    "|MazeF4-v0|15.64|3.02|13.50|21.34|4.39|81.69|25|81.07|3.57|118.83|22.23|31.17|3.59|\n",
    "|Maze7-v0|15.02|4.10|10.24|19.00|4.17|80.89|27|80.32|3.42|102.63|16.89|32.80|3.39|\n",
    "|Sutton-v0|61.88|15.79|67.90|11.99|41.14|87.74|0|44.64|3.67|1949.47|133.86|226.83|28.77|\n",
    "|Lab1-v0|99.33|0.68|99.99|0.05|99.74|100.00|0|62.43|2.38|990.27|74.10|221.43|13.34|\n",
    "|MiyazakiB-v0|11.84|2.84|6.52|6.95|3.43|40.48|22|47.93|6.04|828.27|90.80|105.53|18.17|\n",
    "|**Type I**       ||||||||||||||\n",
    "|MazeB-v0|17.04|4.37|19.47|31.60|5.00|100.00|1|53.33|7.90|378.97|31.72|89.57|15.19|\n",
    "|Littman89-v0|10.04|2.86|13.47|12.74|3.94|56.00|16|45.54|6.13|319.63|53.56|50.73|7.93|\n",
    "|MiyazakiA-v0|7.54|1.26|4.21|1.17|3.14|8.38|26|31.31|4.99|970.13|131.49|70.83|14.27|\n",
    "|MazeD-v0|10.15|1.87|4.63|0.80|4.00|7.00|16|44.58|6.63|288.03|27.39|62.37|11.43|\n",
    "|Cassandra4x4-v0|5.35|0.69|3.30|0.88|2.25|7.48|9|31.85|4.92|602.57|67.08|46.93|10.94|\n",
    "|Littman57-v0|7.42|1.40|4.29|0.57|3.61|5.41|30|62.85|6.19|95.23|24.01|24.63|2.69|\n",
    "|**Not Aliased**||||||||||||||\n",
    "|Maze4-v0|9.47|1.22|4.43|0.48|3.73|5.60|27|64.75|6.12|250.50|21.78|111.00|13.80|\n",
    "|Maze5-v0|13.61|2.31|6.00|1.26|4.82|10.94|28|66.16|6.22|329.37|27.07|155.23|18.38|\n",
    "|MazeA-v0|15.76|2.85|7.03|1.05|6.00|9.00|14|75.96|8.37|134.73|11.98|84.20|10.28|\n",
    "|MazeF1-v0|3.67|0.61|2.31|0.45|1.75|3.09|26|92.14|5.93|14.30|0.53|13.13|0.76|\n",
    "|MazeF2-v0|4.79|0.39|2.72|0.26|2.42|3.53|30|98.04|3.16|20.00|0.45|17.80|0.65|\n",
    "|MazeF3-v0|6.44|0.64|3.52|0.22|3.29|4.27|30|97.62|2.95|32.03|2.71|27.83|1.34|\n",
    "|Woods1-v0|3.25|0.60|2.09|0.36|1.60|3.35|11|59.55|11.22|68.33|7.58|29.07|6.21|\n",
    "|Woods14-v0|33.00|6.94|9.54|0.22|9.08|10.03|30|100.00|0.00|39.17|2.02|39.17|2.02|\n"
   ]
  },
  {
   "cell_type": "markdown",
   "metadata": {},
   "source": [
    "### Complexity and Optimal Performance by Maze\n",
    "\n",
    "These measures come from Zatuchna and Bagnall paper :\n",
    "\n",
    "> Zhanna V. Zatuchna and Anthony Bagnall. 2009. Learning Mazes with Aliasing States: An LCS Algorithm with Associative Perception. Adaptive Behavior - Animals, Animats, Software Agents, Robots, Adaptive Systems 17, 1 (February 2009), 28-57. DOI=http://dx.doi.org/10.1177/1059712308099230\n",
    "\n",
    "$\\phi$ is about the average distance to reward in maze. Its calculation depends mainly on the type of maze. Here is reported $\\phi$' if the maze is aliased, the original $\\phi$ otherwise.\n",
    "\n",
    "$\\psi$ is about the complexity of the maze that depends on the average distance to reward and on the average steps taken by trained Q-learning.\n",
    "\n",
    "I also added $d$, the maximal distance to food I consider to count the number of succesfull tries.\n",
    "\n",
    "The question marks (**?**) highlight some discrepancies present in the original paper.\n",
    "\n",
    "The asterisks (**\\***) indicate pieces of information were not provided.\n",
    "\n",
    "For further details, please see the original paper.\n",
    "\n",
    "#### For Type III Aliased Mazes\n",
    "\n",
    "|       |MazeE2      |Woods101demi|Maze10      |Woods102    |Woods100    |Woods101    |MazeE1       |\n",
    "|-------|:----------:|:----------:|:----------:|:----------:|:----------:|:----------:|:-----------:|\n",
    "|$d$    |3           |4           |8           |4           |3           |4           |4            |\n",
    "|$\\phi$'|2.33        |3.1         |5.17        |3.31        |2.33        |2.9         |3.07         |\n",
    "|$\\psi$ |251.2       |251 **?**   |171         |167         |166         |149         |167 **?**    |\n",
    "\n",
    "#### For Type II Aliased Mazes\n",
    "\n",
    "|       |MazeF4      |Maze7       |Sutton      |Lab1        |MiyazakiB   |\n",
    "|-------|:----------:|:----------:|:----------:|:----------:|:----------:|\n",
    "|$d$    |7           |7           | 10         | **\\***     |5           |\n",
    "|$\\phi$'|4.5 **?**   |4.33        | **\\***     | **\\***     |3.33        |\n",
    "|$\\psi$ |47 **?**    |82 **?**    | **?**      | **?**      |1.03        |\n",
    "\n",
    "#### For Type I Aliased Mazes\n",
    "\n",
    "|       |MazeB       |Littman89   |MiyazakiA   |MazeD       |Cassandra4x4|Littman57   |\n",
    "|-------|:----------:|:----------:|:----------:|:----------:|:----------:|:----------:|\n",
    "|$d$    |5           |7           |5           |4           |3           |8           |\n",
    "|$\\phi$'|3.5         |3.77        |3.05        |2.75        |2.27        |3.71        |\n",
    "|$\\psi$ |1.26        |61 **?**    |69 **?**    |1.03        |1           |154 **?**   |\n",
    "\n",
    "#### For Non Aliased Mazes\n",
    "\n",
    "|       |Maze4       |Maze5       |MazeA       |MazeF1      |MazeF2      |MazeF3      |Woods1      |Woods14     |\n",
    "|-------|:----------:|:----------:|:----------:|:----------:|:----------:|:----------:|:----------:|:----------:|\n",
    "|$d$    |5           |8           |6           |3           |4           |5           |2           |18          |\n",
    "|$\\phi$ |3.5         |4.61        |4.23        |1.8         |2.5         |3.38        |1.63        |9.5         |\n",
    "|$\\psi$ | **\\***     | **\\***     | **\\***     | **\\***     | **\\***     | **\\***     | **\\***     | **\\***     |"
   ]
  },
  {
   "cell_type": "code",
   "execution_count": null,
   "metadata": {},
   "outputs": [],
   "source": []
  }
 ],
 "metadata": {
  "kernelspec": {
   "display_name": "Python 3",
   "language": "python",
   "name": "python3"
  },
  "language_info": {
   "codemirror_mode": {
    "name": "ipython",
    "version": 3
   },
   "file_extension": ".py",
   "mimetype": "text/x-python",
   "name": "python",
   "nbconvert_exporter": "python",
   "pygments_lexer": "ipython3",
   "version": "3.7.4"
  }
 },
 "nbformat": 4,
 "nbformat_minor": 1
}
