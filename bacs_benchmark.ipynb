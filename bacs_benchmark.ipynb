{
 "cells": [
  {
   "cell_type": "code",
   "execution_count": null,
   "metadata": {
    "scrolled": false
   },
   "outputs": [],
   "source": [
    "# Logger\n",
    "import logging\n",
    "logging.basicConfig(level=logging.WARN)\n",
    "\n",
    "# Enable automatic module reload\n",
    "%load_ext autoreload\n",
    "%autoreload 2\n",
    "\n",
    "# Load BACS module\n",
    "from bacs.agents.bacs import BACS, Configuration\n",
    "from bacs.agents.bacs.utils.GymMazeWrapper import _maze_metrics, parse_metrics_to_df, plot_performance\n",
    "\n",
    "# Load environments\n",
    "import gym\n",
    "import my_mazes\n",
    "\n",
    "# Allow to parallelize all benchmarks to do\n",
    "import parmap\n",
    "\n",
    "# For calculation standard deviation\n",
    "import statistics"
   ]
  },
  {
   "cell_type": "markdown",
   "metadata": {},
   "source": [
    "# Agent - BACS - BENCHMARKING"
   ]
  },
  {
   "cell_type": "markdown",
   "metadata": {},
   "source": [
    "## Main Parameters"
   ]
  },
  {
   "cell_type": "code",
   "execution_count": null,
   "metadata": {
    "scrolled": false
   },
   "outputs": [],
   "source": [
    "CLASSIFIER_LENGTH = 8\n",
    "NUMBER_OF_POSSIBLE_ACTIONS = 8\n",
    "\n",
    "NUMBER_OF_EXPLORE_TRIALS = 1000\n",
    "DO_ACTION_PLANNING_EXPLORE = False\n",
    "DO_GA_EXPLORE = False\n",
    "DO_SUBSUMPTION_EXPLORE = True\n",
    "BETA_EXPLORE = 0.05\n",
    "EPSILON = 0.8\n",
    "\n",
    "NUMBER_OF_EXPLOIT_TRIALS = 500\n",
    "DO_ACTION_PLANNING_EXPLOIT = False\n",
    "DO_SUBSUMPTION_EXPLOIT = True\n",
    "BETA_EXPLOIT = 0.05\n",
    "\n",
    "LENGTH_OF_BEHAVIORAL_SEQUENCES = 1\n",
    "\n",
    "NUMBER_OF_ITERATIONS_TO_BENCH = 30\n",
    "\n",
    "NB_OF_PROCESSES = 24"
   ]
  },
  {
   "cell_type": "markdown",
   "metadata": {},
   "source": [
    "## Full Details of Agent Parameters"
   ]
  },
  {
   "cell_type": "code",
   "execution_count": null,
   "metadata": {},
   "outputs": [],
   "source": [
    "cfg_explore = Configuration(\n",
    "    classifier_length=CLASSIFIER_LENGTH,\n",
    "    number_of_possible_actions=NUMBER_OF_POSSIBLE_ACTIONS,\n",
    "    user_metrics_collector_fcn=_maze_metrics,\n",
    "    metrics_trial_frequency=20,\n",
    "    do_ga=DO_GA_EXPLORE,\n",
    "    do_subsumption=DO_SUBSUMPTION_EXPLORE,\n",
    "    do_action_planning=DO_ACTION_PLANNING_EXPLORE,\n",
    "    action_planning_frequency=50,\n",
    "    beta=BETA_EXPLORE,\n",
    "    gamma=0.95,\n",
    "    theta_i=0.1,\n",
    "    theta_r=0.9,\n",
    "    epsilon=EPSILON,\n",
    "    u_max=CLASSIFIER_LENGTH,\n",
    "    theta_exp=20,\n",
    "    theta_ga=100,\n",
    "    theta_as=20,\n",
    "    mu=0.3,\n",
    "    chi=0.8,\n",
    "    bs_max=LENGTH_OF_BEHAVIORAL_SEQUENCES\n",
    ")\n",
    "\n",
    "cfg_exploit = Configuration(\n",
    "    classifier_length=CLASSIFIER_LENGTH,\n",
    "    number_of_possible_actions=NUMBER_OF_POSSIBLE_ACTIONS,\n",
    "    user_metrics_collector_fcn=_maze_metrics,\n",
    "    metrics_trial_frequency=1,\n",
    "    do_ga=False,\n",
    "    do_subsumption=DO_SUBSUMPTION_EXPLOIT,\n",
    "    do_action_planning=DO_ACTION_PLANNING_EXPLOIT,\n",
    "    action_planning_frequency=50,\n",
    "    beta=BETA_EXPLOIT,\n",
    "    gamma=0.95,\n",
    "    theta_i=0.1,\n",
    "    theta_r=0.9,\n",
    "    epsilon=0.0,\n",
    "    u_max=CLASSIFIER_LENGTH,\n",
    "    theta_exp=20,\n",
    "    theta_ga=100,\n",
    "    theta_as=20,\n",
    "    mu=0.3,\n",
    "    chi=0.8,\n",
    "    bs_max=LENGTH_OF_BEHAVIORAL_SEQUENCES\n",
    ")"
   ]
  },
  {
   "cell_type": "markdown",
   "metadata": {},
   "source": [
    "### Benchmarking - Maze"
   ]
  },
  {
   "cell_type": "code",
   "execution_count": null,
   "metadata": {
    "scrolled": false
   },
   "outputs": [],
   "source": [
    "def bench_on_maze(env,n):\n",
    "    avg_explore_list = []\n",
    "    avg_exploit_list = []\n",
    "    knowledge_list = []\n",
    "    population_list = []\n",
    "    numerosity_list = []\n",
    "    reliable_list = []\n",
    "    \n",
    "    for i in range(n):\n",
    "        \n",
    "        # Initialize environment\n",
    "        maze = gym.make(env.id)\n",
    "        \n",
    "        # Reset it, by putting an agent into random position\n",
    "        situation = maze.reset()\n",
    "    \n",
    "        # Training of BACS - Exploration\n",
    "        agent_explore = BACS(cfg_explore)\n",
    "        population_explore, metrics_explore = agent_explore.explore(maze, NUMBER_OF_EXPLORE_TRIALS)\n",
    "    \n",
    "        # Using BACS - Exploitation\n",
    "        agent_exploit = BACS(cfg_exploit, population_explore)\n",
    "        agent_exploit.clean_population()\n",
    "        population_exploit, metrics_exploit = agent_exploit.exploit(maze, NUMBER_OF_EXPLOIT_TRIALS)\n",
    "        \n",
    "        # Get frequencies to compute averages\n",
    "        metrics_trial_frequency_explore = cfg_explore.metrics_trial_frequency\n",
    "        metrics_trial_frequency_exploit = cfg_exploit.metrics_trial_frequency\n",
    "        \n",
    "        # Get average in exploration\n",
    "        avg_step_explore = 0\n",
    "        for trial in metrics_explore:\n",
    "            avg_step_explore += trial['steps_in_trial']\n",
    "        avg_step_explore /= NUMBER_OF_EXPLORE_TRIALS / metrics_trial_frequency_explore\n",
    "        avg_explore_list.append(avg_step_explore)\n",
    "        \n",
    "        # Get average in exploitation\n",
    "        avg_step_exploit = 0\n",
    "        for trial in metrics_exploit:\n",
    "            avg_step_exploit += trial['steps_in_trial']\n",
    "        avg_step_exploit /= NUMBER_OF_EXPLOIT_TRIALS / metrics_trial_frequency_exploit\n",
    "        avg_exploit_list.append(avg_step_exploit)\n",
    "        \n",
    "        # Get other metrics\n",
    "        knowledge_list.append(metrics_exploit[-1]['knowledge'])\n",
    "        population_list.append(metrics_exploit[-1]['population'])\n",
    "        numerosity_list.append(metrics_exploit[-1]['numerosity'])\n",
    "        reliable_list.append(metrics_exploit[-1]['reliable'])\n",
    "        \n",
    "        print(env.id,'|','#' * (i+1) ,' ' * (n-i-1), '|')\n",
    "    \n",
    "    # Compute the means and standard deviations\n",
    "    avg_explore = float(sum(avg_explore_list)) / n\n",
    "    std_explore = statistics.pstdev(avg_explore_list)\n",
    "    avg_exploit = float(sum(avg_exploit_list)) / n\n",
    "    std_exploit = statistics.pstdev(avg_exploit_list)\n",
    "    avg_knowledge = float(sum(knowledge_list)) / n\n",
    "    std_knowledge = statistics.pstdev(knowledge_list)\n",
    "    avg_population = float(sum(population_list)) / n\n",
    "    std_population = statistics.pstdev(population_list)\n",
    "    avg_numerosity = float(sum(numerosity_list)) / n\n",
    "    std_numerosity = statistics.pstdev(numerosity_list)\n",
    "    avg_reliable = float(sum(reliable_list)) / n\n",
    "    std_reliable = statistics.pstdev(reliable_list)\n",
    "    \n",
    "    result = {\n",
    "        'maze'             : env.id,\n",
    "        'avg_explore'      : avg_explore,\n",
    "        'std_explore'      : std_explore,\n",
    "        'avg_exploit'      : avg_exploit,\n",
    "        'std_exploit'      : std_exploit,\n",
    "        'avg_knowledge'    : avg_knowledge,\n",
    "        'std_knowledge'    : std_knowledge,\n",
    "        'avg_population'   : avg_population,\n",
    "        'std_population'   : std_population,\n",
    "        'avg_numerosity'   : avg_numerosity,\n",
    "        'std_numerosity'   : std_numerosity,\n",
    "        'avg_reliable'     : avg_reliable,\n",
    "        'std_reliable'     : std_reliable,\n",
    "        'avg_exploit_list' : avg_exploit_list\n",
    "    }\n",
    "    \n",
    "    print(result)\n",
    "    \n",
    "    return result"
   ]
  },
  {
   "cell_type": "markdown",
   "metadata": {},
   "source": [
    "Custom functions for getting available environments in Gym depending on the type of mazes :"
   ]
  },
  {
   "cell_type": "code",
   "execution_count": null,
   "metadata": {},
   "outputs": [],
   "source": [
    "filter_envs_typeIII = lambda env: env.id.startswith(\"Maze10-\") or env.id.startswith(\"MazeE1\") \\\n",
    "    or env.id.startswith(\"MazeE2\") or env.id.startswith(\"Woods10\")\n",
    "\n",
    "filter_envs_typeII = lambda env: env.id.startswith(\"MazeF4\") or env.id.startswith(\"Maze7\") \\\n",
    "    or env.id.startswith(\"MiyazakiB\")\n",
    "\n",
    "filter_envs_typeI = lambda env: env.id.startswith(\"MazeB\") or env.id.startswith(\"MazeD\") \\\n",
    "    or env.id.startswith(\"Littman\") or env.id.startswith(\"MiyazakiA\") \\\n",
    "    or env.id.startswith(\"Cassandra\")\n",
    "\n",
    "filter_envs_na = lambda env: env.id.startswith(\"MazeF1\") or env.id.startswith(\"MazeF2\") \\\n",
    "    or env.id.startswith(\"MazeF3\") or env.id.startswith(\"Woods1-\") \\\n",
    "    or env.id.startswith(\"Woods14\") or env.id.startswith(\"Maze4\") \\\n",
    "    or env.id.startswith(\"Maze5\") or env.id.startswith(\"MazeA\")\n",
    "\n",
    "all_envs = [env for env in gym.envs.registry.all()]"
   ]
  },
  {
   "cell_type": "markdown",
   "metadata": {},
   "source": [
    "Benchmarking without the genetic algorithms :"
   ]
  },
  {
   "cell_type": "code",
   "execution_count": null,
   "metadata": {
    "scrolled": false
   },
   "outputs": [],
   "source": [
    "maze_envs = [env for env in all_envs if filter_envs_na(env) or filter_envs_typeI(env) or filter_envs_typeII(env) or filter_envs_typeIII(env)]\n",
    "\n",
    "results = parmap.map(bench_on_maze, maze_envs, NUMBER_OF_ITERATIONS_TO_BENCH, pm_pbar=True, pm_processes=NB_OF_PROCESSES)"
   ]
  },
  {
   "cell_type": "markdown",
   "metadata": {},
   "source": [
    "Parsing the previous result to get a markdown string for each environment :"
   ]
  },
  {
   "cell_type": "code",
   "execution_count": null,
   "metadata": {},
   "outputs": [],
   "source": [
    "markdown_str = ''\n",
    "\n",
    "for item in results:\n",
    "    markdown_str += '|BACS-RL|'\n",
    "    markdown_str += item['maze'] + '|'\n",
    "    markdown_str += \"{:.2f}\".format(item['avg_explore']) + '|'\n",
    "    markdown_str += \"{:.2f}\".format(item['std_explore']) + '|'\n",
    "    markdown_str += \"{:.2f}\".format(item['avg_exploit']) + '|'\n",
    "    markdown_str += \"{:.2f}\".format(item['std_exploit']) + '|'\n",
    "    markdown_str += \"{:.2f}\".format(min(item['avg_exploit_list'])) + '|'\n",
    "    markdown_str += \"{:.2f}\".format(max(item['avg_exploit_list'])) + '|'\n",
    "    markdown_str += '0' + '|'\n",
    "    markdown_str += \"{:.2f}\".format(item['avg_knowledge']) + '|'\n",
    "    markdown_str += \"{:.2f}\".format(item['std_knowledge']) + '|'\n",
    "    markdown_str += \"{:.2f}\".format(item['avg_population']) + '|'\n",
    "    markdown_str += \"{:.2f}\".format(item['std_population']) + '|'\n",
    "    markdown_str += \"{:.2f}\".format(item['avg_reliable']) + '|'\n",
    "    markdown_str += \"{:.2f}\".format(item['std_reliable']) + '|'\n",
    "    markdown_str += '\\n'\n",
    "    \n",
    "print(markdown_str)"
   ]
  },
  {
   "cell_type": "markdown",
   "metadata": {},
   "source": [
    "### Complexity and Optimal Performance by Maze\n",
    "\n",
    "These measures come from Zatuchna and Bagnall paper :\n",
    "\n",
    "> Zhanna V. Zatuchna and Anthony Bagnall. 2009. Learning Mazes with Aliasing States: An LCS Algorithm with Associative Perception. Adaptive Behavior - Animals, Animats, Software Agents, Robots, Adaptive Systems 17, 1 (February 2009), 28-57. DOI=http://dx.doi.org/10.1177/1059712308099230\n",
    "\n",
    "$\\phi$ is about the average distance to reward in maze. Its calculation depends mainly on the type of maze. Here is reported $\\phi$' if the maze is aliased, the original $\\phi$ otherwise.\n",
    "\n",
    "$\\psi$ is about the complexity of the maze that depends on the average distance to reward and on the average steps taken by trained Q-learning.\n",
    "\n",
    "The question marks (**?**) highlight some discrepancies present in the original paper.\n",
    "\n",
    "The asterisks (**\\***) indicate pieces of information were not provided.\n",
    "\n",
    "For further details, please see the original paper.\n",
    "\n",
    "#### For Type III Aliased Mazes\n",
    "\n",
    "|       |MazeE2      |Woods101demi|Maze10      |Woods102    |Woods100    |Woods101    |MazeE1       |\n",
    "|-------|:----------:|:----------:|:----------:|:----------:|:----------:|:----------:|:-----------:|\n",
    "|$\\phi$'|2.33        |3.1         |5.17        |3.31        |2.33        |2.9         |3.07         |\n",
    "|$\\psi$ |251.2       |251 **?**   |171         |167         |166         |149         |167 **?**    |\n",
    "\n",
    "#### For Type II Aliased Mazes\n",
    "\n",
    "|       |MazeF4      |Maze7       |MiyazakiB   |\n",
    "|-------|:----------:|:----------:|:----------:|\n",
    "|$\\phi$'|4.5 **?**   |4.33        |3.33        |\n",
    "|$\\psi$ |47 **?**    |82 **?**    |1.03        |\n",
    "\n",
    "#### For Type I Aliased Mazes\n",
    "\n",
    "|       |MazeB       |Littman89   |MiyazakiA   |MazeD       |Cassandra4x4|Littman57   |\n",
    "|-------|:----------:|:----------:|:----------:|:----------:|:----------:|:----------:|\n",
    "|$\\phi$'|3.5         |3.77        |3.05        |2.75        |2.27        |3.71        |\n",
    "|$\\psi$ |1.26        |61 **?**    |69 **?**    |1.03        |1           |154 **?**   |\n",
    "\n",
    "#### For Non Aliased Mazes\n",
    "\n",
    "|       |Maze4       |Maze5       |MazeA       |MazeF1      |MazeF2      |MazeF3      |Woods1      |Woods14     |\n",
    "|-------|:----------:|:----------:|:----------:|:----------:|:----------:|:----------:|:----------:|:----------:|\n",
    "|$\\phi$ |3.5         |4.61        |4.23        |1.8         |2.5         |3.38        |1.63        |9.5         |\n",
    "|$\\psi$ | **\\***     | **\\***     | **\\***     | **\\***     | **\\***     | **\\***     | **\\***     | **\\***     |"
   ]
  },
  {
   "cell_type": "code",
   "execution_count": null,
   "metadata": {},
   "outputs": [],
   "source": [
    "print(results)"
   ]
  }
 ],
 "metadata": {
  "file_extension": ".py",
  "kernelspec": {
   "display_name": "Python 3",
   "language": "python",
   "name": "python3"
  },
  "language_info": {
   "codemirror_mode": {
    "name": "ipython",
    "version": 3
   },
   "file_extension": ".py",
   "mimetype": "text/x-python",
   "name": "python",
   "nbconvert_exporter": "python",
   "pygments_lexer": "ipython3",
   "version": "3.7.4"
  },
  "mimetype": "text/x-python",
  "name": "python",
  "npconvert_exporter": "python",
  "pygments_lexer": "ipython3",
  "version": 3
 },
 "nbformat": 4,
 "nbformat_minor": 2
}
