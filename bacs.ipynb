{
 "cells": [
  {
   "cell_type": "markdown",
   "metadata": {},
   "source": [
    "\n",
    "    This Source Code Form is subject to the terms of the Mozilla Public\n",
    "    License, v. 2.0. If a copy of the MPL was not distributed with this\n",
    "    file, You can obtain one at http://mozilla.org/MPL/2.0/.\n"
   ]
  },
  {
   "cell_type": "code",
   "execution_count": null,
   "metadata": {},
   "outputs": [],
   "source": [
    "# Logger\n",
    "import logging\n",
    "logging.basicConfig(level=logging.WARN)\n",
    "\n",
    "# Enable automatic module reload\n",
    "%load_ext autoreload\n",
    "%autoreload 2\n",
    "\n",
    "# Load PyALCS ACSM module\n",
    "from bacs.agents.bacs import BACS, Configuration\n",
    "from bacs.agents.bacs.utils.GymMazeWrapper import _maze_metrics, parse_metrics_to_df, plot_performance\n",
    "\n",
    "# Load environments\n",
    "import gym\n",
    "import my_mazes"
   ]
  },
  {
   "cell_type": "markdown",
   "metadata": {},
   "source": [
    "# Agent - BACS"
   ]
  },
  {
   "cell_type": "markdown",
   "metadata": {},
   "source": [
    "## Common parameters"
   ]
  },
  {
   "cell_type": "code",
   "execution_count": null,
   "metadata": {},
   "outputs": [],
   "source": [
    "CLASSIFIER_LENGTH = 8\n",
    "NUMBER_OF_POSSIBLE_ACTIONS = 8\n",
    "\n",
    "MAZE = \"Woods101-v0\"\n",
    "\n",
    "NUMBER_OF_EXPLORE_TRIALS = 1000\n",
    "METRICS_TRIAL_FREQUENCY_EXPLORE = 20\n",
    "BETA_EXPLORE = 0.05\n",
    "EPSILON = 0.8\n",
    "\n",
    "NUMBER_OF_EXPLOIT_TRIALS_NO_RL = 500\n",
    "BETA_EXPLOIT_NO_RL = 0.00\n",
    "\n",
    "NUMBER_OF_EXPLOIT_TRIALS_RL_START = 100\n",
    "BETA_EXPLOIT_RL_START = 0.05\n",
    "\n",
    "NUMBER_OF_EXPLOIT_TRIALS_RL = 500\n",
    "BETA_EXPLOIT_RL = 0.05\n",
    "\n",
    "LENGTH_OF_BEHAVIORAL_SEQUENCES = 1\n",
    "\n",
    "ENABLE_PEE = True\n",
    "KEEP_ONLY_RELIABLE = False"
   ]
  },
  {
   "cell_type": "markdown",
   "metadata": {},
   "source": [
    "## Environment - Maze"
   ]
  },
  {
   "cell_type": "code",
   "execution_count": null,
   "metadata": {},
   "outputs": [],
   "source": [
    "# Initialize environment\n",
    "maze = gym.make(MAZE)\n",
    "# Reset it, by putting an agent into random position\n",
    "situation = maze.reset()\n",
    "# Render the state in ASCII\n",
    "maze.render()"
   ]
  },
  {
   "cell_type": "markdown",
   "metadata": {},
   "source": [
    "## Training of BACS - Exploration"
   ]
  },
  {
   "cell_type": "code",
   "execution_count": null,
   "metadata": {},
   "outputs": [],
   "source": [
    "%%time\n",
    "\n",
    "cfg_explore = Configuration(\n",
    "    classifier_length=CLASSIFIER_LENGTH,\n",
    "    number_of_possible_actions=NUMBER_OF_POSSIBLE_ACTIONS,\n",
    "    user_metrics_collector_fcn=_maze_metrics,\n",
    "    metrics_trial_frequency=METRICS_TRIAL_FREQUENCY_EXPLORE,\n",
    "    do_pee=ENABLE_PEE,\n",
    "    do_ga=False,\n",
    "    do_subsumption=True,\n",
    "    beta=BETA_EXPLORE,\n",
    "    gamma=0.95,\n",
    "    theta_i=0.1,\n",
    "    theta_r=0.9,\n",
    "    epsilon=EPSILON,\n",
    "    u_max=CLASSIFIER_LENGTH,\n",
    "    theta_exp=20,\n",
    "    theta_ga=100,\n",
    "    theta_as=20,\n",
    "    mu=0.3,\n",
    "    chi=0.8,\n",
    "    bs_max=LENGTH_OF_BEHAVIORAL_SEQUENCES\n",
    ")\n",
    "\n",
    "agent_explore = BACS(cfg_explore)\n",
    "population_explore, metrics_explore = agent_explore.explore(maze, NUMBER_OF_EXPLORE_TRIALS)"
   ]
  },
  {
   "cell_type": "markdown",
   "metadata": {},
   "source": [
    "## Exploitation of BACS"
   ]
  },
  {
   "cell_type": "markdown",
   "metadata": {},
   "source": [
    "### Exploitation without Reinforcement Module"
   ]
  },
  {
   "cell_type": "code",
   "execution_count": null,
   "metadata": {},
   "outputs": [],
   "source": [
    "%%time\n",
    "\n",
    "cfg_exploit_no_rl = Configuration(\n",
    "    classifier_length=CLASSIFIER_LENGTH,\n",
    "    number_of_possible_actions=NUMBER_OF_POSSIBLE_ACTIONS,\n",
    "    user_metrics_collector_fcn=None,\n",
    "    metrics_trial_frequency=1,\n",
    "    do_pee=ENABLE_PEE,\n",
    "    do_ga=False,\n",
    "    do_subsumption=True,\n",
    "    beta=BETA_EXPLOIT_NO_RL,\n",
    "    gamma=0.95,\n",
    "    theta_i=0.1,\n",
    "    theta_r=0.9,\n",
    "    epsilon=0.0,\n",
    "    u_max=CLASSIFIER_LENGTH,\n",
    "    theta_exp=20,\n",
    "    theta_ga=100,\n",
    "    theta_as=20,\n",
    "    mu=0.3,\n",
    "    chi=0.8,\n",
    "    bs_max=LENGTH_OF_BEHAVIORAL_SEQUENCES\n",
    ")\n",
    "\n",
    "agent_exploit_no_rl = BACS(cfg_exploit_no_rl, population_explore)\n",
    "agent_exploit_no_rl.zip_population(does_anticipate_change=True, is_reliable=KEEP_ONLY_RELIABLE)\n",
    "population_exploit_no_rl, metrics_exploit_no_rl = agent_exploit_no_rl.exploit(maze, NUMBER_OF_EXPLOIT_TRIALS_NO_RL)\n"
   ]
  },
  {
   "cell_type": "code",
   "execution_count": null,
   "metadata": {},
   "outputs": [],
   "source": [
    "%%time\n",
    "\n",
    "cfg_exploit_rl_start = Configuration(\n",
    "    classifier_length=CLASSIFIER_LENGTH,\n",
    "    number_of_possible_actions=NUMBER_OF_POSSIBLE_ACTIONS,\n",
    "    user_metrics_collector_fcn=None,\n",
    "    metrics_trial_frequency=1,\n",
    "    do_pee=ENABLE_PEE,\n",
    "    do_ga=False,\n",
    "    do_subsumption=True,\n",
    "    beta=BETA_EXPLOIT_RL_START,\n",
    "    gamma=0.95,\n",
    "    theta_i=0.1,\n",
    "    theta_r=0.9,\n",
    "    epsilon=0.0,\n",
    "    u_max=CLASSIFIER_LENGTH,\n",
    "    theta_exp=20,\n",
    "    theta_ga=100,\n",
    "    theta_as=20,\n",
    "    mu=0.3,\n",
    "    chi=0.8,\n",
    "    bs_max=LENGTH_OF_BEHAVIORAL_SEQUENCES\n",
    ")\n",
    "\n",
    "agent_exploit_rl_start = BACS(cfg_exploit_rl_start, population_exploit_no_rl)\n",
    "agent_exploit_rl_start.zip_population(does_anticipate_change=True, is_reliable=KEEP_ONLY_RELIABLE)\n",
    "population_exploit_rl_start, metrics_exploit_rl_start = agent_exploit_rl_start.exploit(maze, NUMBER_OF_EXPLOIT_TRIALS_RL_START)\n"
   ]
  },
  {
   "cell_type": "code",
   "execution_count": null,
   "metadata": {},
   "outputs": [],
   "source": [
    "%%time\n",
    "\n",
    "cfg_exploit_rl = Configuration(\n",
    "    classifier_length=CLASSIFIER_LENGTH,\n",
    "    number_of_possible_actions=NUMBER_OF_POSSIBLE_ACTIONS,\n",
    "    user_metrics_collector_fcn=None,\n",
    "    metrics_trial_frequency=1,\n",
    "    do_pee=ENABLE_PEE,\n",
    "    do_ga=False,\n",
    "    do_subsumption=True,\n",
    "    beta=BETA_EXPLOIT_RL,\n",
    "    gamma=0.95,\n",
    "    theta_i=0.1,\n",
    "    theta_r=0.9,\n",
    "    epsilon=0.0,\n",
    "    u_max=CLASSIFIER_LENGTH,\n",
    "    theta_exp=20,\n",
    "    theta_ga=100,\n",
    "    theta_as=20,\n",
    "    mu=0.3,\n",
    "    chi=0.8,\n",
    "    bs_max=LENGTH_OF_BEHAVIORAL_SEQUENCES\n",
    ")\n",
    "\n",
    "agent_exploit_rl = BACS(cfg_exploit_rl, population_exploit_rl_start)\n",
    "agent_exploit_rl.zip_population(does_anticipate_change=True, is_reliable=KEEP_ONLY_RELIABLE)\n",
    "population_exploit_rl, metrics_exploit_rl = agent_exploit_rl.exploit(maze, NUMBER_OF_EXPLOIT_TRIALS_RL)"
   ]
  },
  {
   "cell_type": "markdown",
   "metadata": {},
   "source": [
    "### Performance"
   ]
  },
  {
   "cell_type": "code",
   "execution_count": null,
   "metadata": {
    "scrolled": false
   },
   "outputs": [],
   "source": [
    "metrics_trial_frequency_explore = cfg_explore.metrics_trial_frequency\n",
    "metrics_trial_frequency_exploit = 1\n",
    "\n",
    "metrics_exploit = metrics_exploit_no_rl.copy()\n",
    "for idx, item in enumerate(metrics_exploit_rl_start):\n",
    "    tmp = item.copy()\n",
    "    tmp['trial'] += NUMBER_OF_EXPLOIT_TRIALS_NO_RL\n",
    "    metrics_exploit.append(tmp)\n",
    "for idx, item in enumerate(metrics_exploit_rl):\n",
    "    tmp = item.copy()\n",
    "    tmp['trial'] += NUMBER_OF_EXPLOIT_TRIALS_NO_RL + NUMBER_OF_EXPLOIT_TRIALS_RL_START\n",
    "    metrics_exploit.append(tmp)\n",
    "\n",
    "metrics_df = parse_metrics_to_df(metrics_explore, metrics_trial_frequency_explore, metrics_exploit, metrics_trial_frequency_exploit)\n",
    "plot_performance(agent_exploit_rl, maze, metrics_df, cfg_exploit_rl, MAZE, metrics_trial_frequency_explore, [NUMBER_OF_EXPLOIT_TRIALS_NO_RL,NUMBER_OF_EXPLOIT_TRIALS_RL_START,NUMBER_OF_EXPLOIT_TRIALS_RL])\n"
   ]
  },
  {
   "cell_type": "code",
   "execution_count": null,
   "metadata": {},
   "outputs": [],
   "source": [
    "avg_step_explore = 0\n",
    "for trial in metrics_explore:\n",
    "    avg_step_explore += trial['steps_in_trial']\n",
    "avg_step_explore /= NUMBER_OF_EXPLORE_TRIALS / metrics_trial_frequency_explore\n",
    "print(\"Average number of steps to solve the maze is \",avg_step_explore,\n",
    "      \" for a total of \", NUMBER_OF_EXPLORE_TRIALS, \" trials in EXPLORATION\")\n",
    "\n",
    "avg_step_exploit_no_rl = 0\n",
    "for trial in metrics_exploit_no_rl:\n",
    "    avg_step_exploit_no_rl += trial['steps_in_trial']\n",
    "avg_step_exploit_no_rl /= NUMBER_OF_EXPLOIT_TRIALS_NO_RL\n",
    "print(\"Average number of steps to solve the maze is \",avg_step_exploit_no_rl,\n",
    "      \" for a total of \", NUMBER_OF_EXPLOIT_TRIALS_NO_RL, \" trials in EXPLOITATION without Reinforcement Module\")\n",
    "\n",
    "avg_step_exploit_rl_start = 0\n",
    "for trial in metrics_exploit_rl_start:\n",
    "    avg_step_exploit_rl_start += trial['steps_in_trial']\n",
    "avg_step_exploit_rl_start /= NUMBER_OF_EXPLOIT_TRIALS_RL_START\n",
    "print(\"Average number of steps to solve the maze is \",avg_step_exploit_rl_start,\n",
    "      \" for a total of \", NUMBER_OF_EXPLOIT_TRIALS_RL_START, \" trials in EXPLOITATION starting Reinforcement Module\")\n",
    "\n",
    "avg_step_exploit_rl = 0\n",
    "for trial in metrics_exploit_rl:\n",
    "    avg_step_exploit_rl += trial['steps_in_trial']\n",
    "avg_step_exploit_rl /= NUMBER_OF_EXPLOIT_TRIALS_RL\n",
    "print(\"Average number of steps to solve the maze is \",avg_step_exploit_rl,\n",
    "      \" for a total of \", NUMBER_OF_EXPLOIT_TRIALS_RL, \" trials in EXPLOITATION with Reinforcement Module\")\n",
    "\n",
    "print(_maze_metrics(population_explore, maze))\n",
    "print(_maze_metrics(population_exploit_no_rl, maze))\n",
    "print(_maze_metrics(population_exploit_rl_start, maze))\n",
    "print(_maze_metrics(population_exploit_rl, maze))"
   ]
  },
  {
   "cell_type": "code",
   "execution_count": null,
   "metadata": {},
   "outputs": [],
   "source": [
    "population_exploit_rl.sort(key=lambda cl: -cl.fitness)\n",
    "population_exploit_to_display = [cl for cl in population_exploit_rl \n",
    "                                 if cl.is_enhanced() or cl.behavioral_sequence]\n",
    "for cl in population_exploit_to_display:\n",
    "    print(cl)\n",
    "    print(\"\\n\")"
   ]
  },
  {
   "cell_type": "code",
   "execution_count": null,
   "metadata": {},
   "outputs": [],
   "source": []
  }
 ],
 "metadata": {
  "file_extension": ".py",
  "kernelspec": {
   "display_name": "Python 3",
   "language": "python",
   "name": "python3"
  },
  "language_info": {
   "codemirror_mode": {
    "name": "ipython",
    "version": 3
   },
   "file_extension": ".py",
   "mimetype": "text/x-python",
   "name": "python",
   "nbconvert_exporter": "python",
   "pygments_lexer": "ipython3",
   "version": "3.7.6"
  },
  "mimetype": "text/x-python",
  "name": "python",
  "npconvert_exporter": "python",
  "pygments_lexer": "ipython3",
  "version": 3
 },
 "nbformat": 4,
 "nbformat_minor": 2
}
