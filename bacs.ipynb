{
 "cells": [
  {
   "cell_type": "code",
   "execution_count": null,
   "metadata": {},
   "outputs": [],
   "source": [
    "# Logger\n",
    "import logging\n",
    "logging.basicConfig(level=logging.WARN)\n",
    "\n",
    "# Enable automatic module reload\n",
    "%load_ext autoreload\n",
    "%autoreload 2\n",
    "\n",
    "# Load PyALCS ACSM module\n",
    "from bacs.agents.bacs import BACS, Configuration\n",
    "from bacs.agents.bacs.utils.GymMazeWrapper import _maze_metrics, parse_metrics_to_df, plot_performance\n",
    "\n",
    "# Load environments\n",
    "import gym\n",
    "import my_mazes"
   ]
  },
  {
   "cell_type": "markdown",
   "metadata": {},
   "source": [
    "## Agent - BACS"
   ]
  },
  {
   "cell_type": "markdown",
   "metadata": {},
   "source": [
    "### Common parameters"
   ]
  },
  {
   "cell_type": "code",
   "execution_count": null,
   "metadata": {},
   "outputs": [],
   "source": [
    "CLASSIFIER_LENGTH = 8\n",
    "NUMBER_OF_POSSIBLE_ACTIONS = 8\n",
    "\n",
    "MAZE = \"MazeF4-v0\"\n",
    "\n",
    "NUMBER_OF_EXPLORE_TRIALS = 2000\n",
    "DO_ACTION_PLANNING_EXPLORE = False\n",
    "DO_GA_EXPLORE = False\n",
    "DO_SUBSUMPTION_EXPLORE = True\n",
    "BETA_EXPLORE = 0.025\n",
    "EPSILON = 0.3\n",
    "\n",
    "NUMBER_OF_EXPLOIT_TRIALS = 500\n",
    "DO_ACTION_PLANNING_EXPLOIT = False\n",
    "DO_SUBSUMPTION_EXPLOIT = True\n",
    "BETA_EXPLOIT = 0.00"
   ]
  },
  {
   "cell_type": "markdown",
   "metadata": {},
   "source": [
    "### Environment - Maze"
   ]
  },
  {
   "cell_type": "code",
   "execution_count": null,
   "metadata": {},
   "outputs": [],
   "source": [
    "# Initialize environment\n",
    "maze = gym.make(MAZE)\n",
    "# Reset it, by putting an agent into random position\n",
    "situation = maze.reset()\n",
    "# Render the state in ASCII\n",
    "maze.render()"
   ]
  },
  {
   "cell_type": "markdown",
   "metadata": {},
   "source": [
    "### Training of BACS - Exploration"
   ]
  },
  {
   "cell_type": "code",
   "execution_count": null,
   "metadata": {},
   "outputs": [],
   "source": [
    "%%time\n",
    "\n",
    "cfg_explore = Configuration(\n",
    "    classifier_length=CLASSIFIER_LENGTH,\n",
    "    number_of_possible_actions=NUMBER_OF_POSSIBLE_ACTIONS,\n",
    "    user_metrics_collector_fcn=_maze_metrics,\n",
    "    metrics_trial_frequency=1,\n",
    "    do_ga=DO_GA_EXPLORE,\n",
    "    do_subsumption=DO_SUBSUMPTION_EXPLORE,\n",
    "    do_action_planning=DO_ACTION_PLANNING_EXPLORE,\n",
    "    action_planning_frequency=50,\n",
    "    beta=BETA_EXPLORE,\n",
    "    gamma=0.95,\n",
    "    theta_i=0.1,\n",
    "    theta_r=0.9,\n",
    "    epsilon=EPSILON,\n",
    "    u_max=CLASSIFIER_LENGTH,\n",
    "    theta_exp=20,\n",
    "    theta_ga=100,\n",
    "    theta_as=20,\n",
    "    mu=0.3,\n",
    "    chi=0.8,\n",
    "    bs_max=1\n",
    ")\n",
    "\n",
    "agent_explore = BACS(cfg_explore)\n",
    "population_explore, metrics_explore = agent_explore.explore(maze, NUMBER_OF_EXPLORE_TRIALS)"
   ]
  },
  {
   "cell_type": "code",
   "execution_count": null,
   "metadata": {},
   "outputs": [],
   "source": [
    "population_explore_to_display = [cl for cl in population_explore if cl.does_anticipate_change()]\n",
    "for cl in population_explore_to_display:\n",
    "    print(cl)\n",
    "    #print(\"{!r} \\t {!r} \\t {!r} \\t {:.3f} \\t {:.3f} \\t {:.1f} \\t {!r} \\t {!r}\".format(cl.condition, cl.action, cl.effect, cl.fitness, cl.q, cl.talp, cl.exp, cl.mark))\n",
    "    print(\"\\n\")"
   ]
  },
  {
   "cell_type": "markdown",
   "metadata": {},
   "source": [
    "### Exploitation of BACS"
   ]
  },
  {
   "cell_type": "code",
   "execution_count": null,
   "metadata": {},
   "outputs": [],
   "source": [
    "%%time\n",
    "\n",
    "cfg_exploit = Configuration(\n",
    "    classifier_length=CLASSIFIER_LENGTH,\n",
    "    number_of_possible_actions=NUMBER_OF_POSSIBLE_ACTIONS,\n",
    "    user_metrics_collector_fcn=_maze_metrics,\n",
    "    metrics_trial_frequency=1,\n",
    "    do_ga=False,\n",
    "    do_subsumption=DO_SUBSUMPTION_EXPLOIT,\n",
    "    do_action_planning=DO_ACTION_PLANNING_EXPLOIT,\n",
    "    action_planning_frequency=50,\n",
    "    beta=BETA_EXPLOIT,\n",
    "    gamma=0.95,\n",
    "    theta_i=0.1,\n",
    "    theta_r=0.9,\n",
    "    epsilon=0.0,\n",
    "    u_max=CLASSIFIER_LENGTH,\n",
    "    theta_exp=20,\n",
    "    theta_ga=100,\n",
    "    theta_as=20,\n",
    "    mu=0.3,\n",
    "    chi=0.8,\n",
    "    bs_max=1\n",
    ")\n",
    "\n",
    "agent_exploit = BACS(cfg_exploit, population_explore)\n",
    "agent_exploit.clean_population()\n",
    "population_exploit, metrics_exploit = agent_exploit.exploit(maze, NUMBER_OF_EXPLOIT_TRIALS)"
   ]
  },
  {
   "cell_type": "markdown",
   "metadata": {},
   "source": [
    "### Performance"
   ]
  },
  {
   "cell_type": "code",
   "execution_count": null,
   "metadata": {},
   "outputs": [],
   "source": [
    "metrics_df = parse_metrics_to_df(metrics_explore, metrics_exploit)\n",
    "plot_performance(agent_exploit, maze, metrics_df, cfg_exploit, MAZE)"
   ]
  },
  {
   "cell_type": "code",
   "execution_count": null,
   "metadata": {},
   "outputs": [],
   "source": [
    "avg_step_explore = 0\n",
    "for trial in metrics_explore:\n",
    "    avg_step_explore += trial['steps_in_trial']\n",
    "avg_step_explore /= NUMBER_OF_EXPLORE_TRIALS\n",
    "avg_step_exploit = 0\n",
    "for trial in metrics_exploit:\n",
    "    avg_step_exploit += trial['steps_in_trial']\n",
    "avg_step_exploit /= NUMBER_OF_EXPLOIT_TRIALS\n",
    "print(\"Average number of steps to solve the maze is \",avg_step_explore,\n",
    "      \" for a total of \", NUMBER_OF_EXPLORE_TRIALS, \" trials in EXPLORATION\")\n",
    "print(\"Average number of steps to solve the maze is \",avg_step_exploit,\n",
    "      \" for a total of \", NUMBER_OF_EXPLOIT_TRIALS, \" trials in EXPLOITATION\")"
   ]
  },
  {
   "cell_type": "code",
   "execution_count": null,
   "metadata": {},
   "outputs": [],
   "source": [
    "population_exploit.sort(key=lambda cl: -cl.fitness)\n",
    "population_exploit_to_display = [cl for cl in population_exploit if cl.does_anticipate_change()]\n",
    "for cl in population_exploit_to_display:\n",
    "    print(cl)\n",
    "    #print(\"{!r} \\t {!r} \\t {!r} \\t {:.3f} \\t {:.3f} \\t {:.1f} \\t {!r} \\t {!r}\".format(cl.condition, cl.action, cl.effect, cl.fitness, cl.q, cl.num, cl.exp, cl.mark))\n",
    "    print(\"\\n\")"
   ]
  },
  {
   "cell_type": "code",
   "execution_count": null,
   "metadata": {},
   "outputs": [],
   "source": []
  }
 ],
 "metadata": {
  "file_extension": ".py",
  "kernelspec": {
   "display_name": "Python 3",
   "language": "python",
   "name": "python3"
  },
  "language_info": {
   "codemirror_mode": {
    "name": "ipython",
    "version": 3
   },
   "file_extension": ".py",
   "mimetype": "text/x-python",
   "name": "python",
   "nbconvert_exporter": "python",
   "pygments_lexer": "ipython3",
   "version": "3.7.4"
  },
  "mimetype": "text/x-python",
  "name": "python",
  "npconvert_exporter": "python",
  "pygments_lexer": "ipython3",
  "version": 3
 },
 "nbformat": 4,
 "nbformat_minor": 2
}
