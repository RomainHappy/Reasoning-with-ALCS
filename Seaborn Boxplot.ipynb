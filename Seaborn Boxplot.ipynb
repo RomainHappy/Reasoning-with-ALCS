{
 "cells": [
  {
   "cell_type": "markdown",
   "metadata": {},
   "source": [
    "\n",
    "    This Source Code Form is subject to the terms of the Mozilla Public\n",
    "    License, v. 2.0. If a copy of the MPL was not distributed with this\n",
    "    file, You can obtain one at http://mozilla.org/MPL/2.0/.\n"
   ]
  },
  {
   "cell_type": "code",
   "execution_count": null,
   "metadata": {},
   "outputs": [],
   "source": [
    "import json\n",
    "import matplotlib.pyplot as plt\n",
    "import matplotlib.transforms\n",
    "import numpy as np\n",
    "import pandas as pd\n",
    "import seaborn as sns"
   ]
  },
  {
   "cell_type": "markdown",
   "metadata": {},
   "source": [
    "### Global parameter to build seaborn boxplot"
   ]
  },
  {
   "cell_type": "code",
   "execution_count": null,
   "metadata": {},
   "outputs": [],
   "source": [
    "json_data_from_lcs_1 = 'data/bacs-2-refactor.json'\n",
    "\n",
    "json_data_from_lcs_2 = 'data/bacs-2-pees.json'\n",
    "\n",
    "figure_size = (20, 10)\n",
    "\n",
    "axe_label_fontsize = '24'\n",
    "tick_label_fontsize = '20'\n",
    "legend_fontsize = '20'"
   ]
  },
  {
   "cell_type": "markdown",
   "metadata": {},
   "source": [
    "### Reading json files and preparing data"
   ]
  },
  {
   "cell_type": "code",
   "execution_count": null,
   "metadata": {},
   "outputs": [],
   "source": [
    "with open(json_data_from_lcs_1) as json_file_1:\n",
    "    raw_data_from_lcs_1 = json.load(json_file_1)\n",
    "    \n",
    "with open(json_data_from_lcs_2) as json_file_2:\n",
    "    raw_data_from_lcs_2 = json.load(json_file_2)\n",
    "    \n",
    "cleaned_data = {'LCS':[], 'Maze':[], 'Distance to exit':[], 'Knowledge':[], 'Knowledge_zip':[], 'Population':[], 'Reliable':[], 'Population_zip':[], 'Reliable_zip':[], 'Zipping_rate':[], 'Zipping_loss':[]}\n",
    "raw_data = [raw_data_from_lcs_1,raw_data_from_lcs_2]\n",
    "lcs_name = [json_data_from_lcs_1[5:-5], json_data_from_lcs_2[5:-5]]\n",
    "\n",
    "nb_of_environments = 0\n",
    "\n",
    "for i in range(len(raw_data)):\n",
    "    for item in raw_data[i]:\n",
    "        if 'time' not in item.keys():\n",
    "            nb_of_environments += 1\n",
    "            for idx, value in enumerate(item['avg_exploit_rl_list']):\n",
    "                cleaned_data['LCS'].append(lcs_name[i])\n",
    "                cleaned_data['Maze'].append(item['maze'])\n",
    "                cleaned_data['Distance to exit'].append(value)\n",
    "                cleaned_data['Knowledge'].append(item['knowledge_list'][idx])\n",
    "                cleaned_data['Knowledge_zip'].append(item['knowledge_list_compressed'][idx])\n",
    "                cleaned_data['Population'].append(item['population_list'][idx])\n",
    "                cleaned_data['Reliable'].append(item['reliable_list'][idx])\n",
    "                cleaned_data['Population_zip'].append(item['population_list_compressed'][idx])\n",
    "                cleaned_data['Reliable_zip'].append(item['reliable_list_compressed'][idx])\n",
    "                cleaned_data['Zipping_rate'].append(1. - float(item['population_list_compressed'][idx])/item['population_list'][idx])\n",
    "                cleaned_data['Zipping_loss'].append(item['knowledge_list'][idx] - item['knowledge_list_compressed'][idx])\n",
    "\n",
    "nb_of_environments /= len(lcs_name)\n",
    "                \n",
    "pandas_data = pd.DataFrame(cleaned_data)"
   ]
  },
  {
   "cell_type": "markdown",
   "metadata": {},
   "source": [
    "### Plotting boxplots with seaborn"
   ]
  },
  {
   "cell_type": "code",
   "execution_count": null,
   "metadata": {},
   "outputs": [],
   "source": [
    "rc={\n",
    "    'axes.labelsize':axe_label_fontsize,\n",
    "    'xtick.labelsize':tick_label_fontsize,\n",
    "    'ytick.labelsize':tick_label_fontsize\n",
    "}\n",
    "sns.set(context='notebook', style='ticks', rc=rc)"
   ]
  },
  {
   "cell_type": "code",
   "execution_count": null,
   "metadata": {},
   "outputs": [],
   "source": [
    "def plot_figure(pandas_data, Y, legend_loc):\n",
    "    \n",
    "    # Build the main figure\n",
    "    fig, ax = plt.subplots(figsize=figure_size)\n",
    "    sns.stripplot(\n",
    "        x = 'Maze',\n",
    "        y = Y,\n",
    "        hue = 'LCS',\n",
    "        data = pandas_data,\n",
    "        edgecolor='gray',\n",
    "        jitter=True,\n",
    "        linewidth = 1,\n",
    "        dodge=True,\n",
    "        palette='pastel',\n",
    "        ax = ax\n",
    "    )\n",
    "    sns.boxplot(\n",
    "        x = 'Maze',\n",
    "        y = Y,\n",
    "        hue = 'LCS',\n",
    "        data = pandas_data,\n",
    "        fliersize=0,\n",
    "        palette='pastel',\n",
    "        ax = ax\n",
    "    )\n",
    "\n",
    "    # Set up x tick labels and x label correctly\n",
    "    plt.xticks(rotation = 45, horizontalalignment = 'right')\n",
    "    plt.xlabel('')\n",
    "\n",
    "    # Hide the horizontal gridlines\n",
    "    ax.yaxis.grid(False)\n",
    "\n",
    "    # Show the vertical gridlines\n",
    "    ax.xaxis.grid(True)\n",
    "\n",
    "    # Shift major ticks to create column for each maze\n",
    "    plt.xticks(np.arange(nb_of_environments)+0.5)\n",
    "\n",
    "    # Set up minor ticks and align label of major ticks on minor ticks\n",
    "    ax.xaxis.set_minor_locator(plt.MultipleLocator(0.5))\n",
    "    dx = (((figure_size[0] * 100 / 4.))/nb_of_environments - 10)/72.; dy = 0/72. # Width in inches converted into pixels depending on default DPI\n",
    "    offset = matplotlib.transforms.ScaledTranslation(dx, dy, fig.dpi_scale_trans)\n",
    "    for label in ax.xaxis.get_majorticklabels():\n",
    "        label.set_transform(label.get_transform() - offset)\n",
    "\n",
    "    # Set up legend\n",
    "    handles, labels = ax.get_legend_handles_labels()\n",
    "    plt.legend(handles[0:2], labels[0:2], frameon=False, loc=legend_loc, fontsize=legend_fontsize)"
   ]
  },
  {
   "cell_type": "code",
   "execution_count": null,
   "metadata": {},
   "outputs": [],
   "source": [
    "def plot_distance_to_exit(pandas_data):\n",
    "    \n",
    "    plot_figure(pandas_data, Y='Distance to exit', legend_loc='upper right')"
   ]
  },
  {
   "cell_type": "code",
   "execution_count": null,
   "metadata": {},
   "outputs": [],
   "source": [
    "def plot_knowledge(pandas_data, zipped:bool=True):\n",
    "    \n",
    "    if zipped:\n",
    "        Y='Knowledge_zip'\n",
    "    else:\n",
    "        Y='Knowledge'\n",
    "        \n",
    "    plot_figure(pandas_data, Y=Y, legend_loc='lower right')"
   ]
  },
  {
   "cell_type": "code",
   "execution_count": null,
   "metadata": {},
   "outputs": [],
   "source": [
    "def plot_population(pandas_data, only_reliable:bool=False, zipped:bool=True):\n",
    "    \n",
    "    if not only_reliable:\n",
    "        if zipped:\n",
    "            Y = 'Population_zip'\n",
    "        else:\n",
    "            Y = 'Population'\n",
    "    else:\n",
    "        if zipped:\n",
    "            Y = 'Reliable_zip'\n",
    "        else:\n",
    "            Y = 'Reliable'\n",
    "            \n",
    "    plot_figure(pandas_data, Y=Y, legend_loc='upper right')"
   ]
  },
  {
   "cell_type": "code",
   "execution_count": null,
   "metadata": {},
   "outputs": [],
   "source": [
    "def plot_zipping_rate(pandas_data):\n",
    "    \n",
    "    plot_figure(pandas_data, Y='Zipping_rate', legend_loc='lower right')"
   ]
  },
  {
   "cell_type": "code",
   "execution_count": null,
   "metadata": {},
   "outputs": [],
   "source": [
    "def plot_zipping_loss(pandas_data):\n",
    "    \n",
    "    plot_figure(pandas_data, Y='Zipping_loss', legend_loc='upper right')"
   ]
  },
  {
   "cell_type": "code",
   "execution_count": null,
   "metadata": {},
   "outputs": [],
   "source": [
    "plot_distance_to_exit(pandas_data)"
   ]
  },
  {
   "cell_type": "code",
   "execution_count": null,
   "metadata": {},
   "outputs": [],
   "source": [
    "plot_knowledge(pandas_data)"
   ]
  },
  {
   "cell_type": "code",
   "execution_count": null,
   "metadata": {},
   "outputs": [],
   "source": [
    "plot_population(pandas_data, only_reliable=False, zipped=False)\n",
    "plot_population(pandas_data, only_reliable=False, zipped=True)"
   ]
  },
  {
   "cell_type": "code",
   "execution_count": null,
   "metadata": {},
   "outputs": [],
   "source": [
    "plot_zipping_rate(pandas_data)"
   ]
  },
  {
   "cell_type": "code",
   "execution_count": null,
   "metadata": {},
   "outputs": [],
   "source": [
    "plot_zipping_loss(pandas_data)"
   ]
  }
 ],
 "metadata": {
  "kernelspec": {
   "display_name": "Python 3",
   "language": "python",
   "name": "python3"
  },
  "language_info": {
   "codemirror_mode": {
    "name": "ipython",
    "version": 3
   },
   "file_extension": ".py",
   "mimetype": "text/x-python",
   "name": "python",
   "nbconvert_exporter": "python",
   "pygments_lexer": "ipython3",
   "version": "3.7.6"
  }
 },
 "nbformat": 4,
 "nbformat_minor": 2
}
