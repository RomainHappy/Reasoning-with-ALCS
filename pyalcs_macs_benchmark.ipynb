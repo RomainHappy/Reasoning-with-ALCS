{
 "cells": [
  {
   "cell_type": "code",
   "execution_count": null,
   "metadata": {
    "scrolled": false
   },
   "outputs": [],
   "source": [
    "# Logger\n",
    "import logging\n",
    "logging.basicConfig(level=logging.WARN)\n",
    "\n",
    "# Enable automatic module reload\n",
    "%load_ext autoreload\n",
    "%autoreload 2\n",
    "\n",
    "# Load PyALCS ACSM module\n",
    "from lcs.agents.macs import MACS, Configuration\n",
    "from lcs.agents.macs.utils.GymMazeWrapper import _maze_metrics, parse_metrics_to_df, plot_performance\n",
    "\n",
    "# Load environments\n",
    "import gym\n",
    "import gym_maze\n",
    "\n",
    "# Allow to parallelize all benchmarks to do\n",
    "import parmap"
   ]
  },
  {
   "cell_type": "markdown",
   "metadata": {},
   "source": [
    "# Agent - MACS - BENCHMARKING"
   ]
  },
  {
   "cell_type": "markdown",
   "metadata": {},
   "source": [
    "## Main Parameters"
   ]
  },
  {
   "cell_type": "code",
   "execution_count": null,
   "metadata": {
    "scrolled": false
   },
   "outputs": [],
   "source": [
    "CLASSIFIER_LENGTH = 8\n",
    "NUMBER_OF_POSSIBLE_ACTIONS = 8\n",
    "\n",
    "NUMBER_OF_EXPLORE_TRIALS = 1000\n",
    "DO_ACTION_PLANNING_EXPLORE = False\n",
    "DO_GA_EXPLORE = False\n",
    "DO_SUBSUMPTION_EXPLORE = True\n",
    "BETA_EXPLORE = 0.025\n",
    "PROBABILITY_X = 0.3\n",
    "\n",
    "NUMBER_OF_EXPLOIT_TRIALS = 500\n",
    "DO_ACTION_PLANNING_EXPLOIT = False\n",
    "DO_SUBSUMPTION_EXPLOIT = True\n",
    "BETA_EXPLOIT = 0.00"
   ]
  },
  {
   "cell_type": "markdown",
   "metadata": {},
   "source": [
    "## Full Details of Agent Parameters"
   ]
  },
  {
   "cell_type": "code",
   "execution_count": null,
   "metadata": {},
   "outputs": [],
   "source": [
    "cfg_explore = Configuration(\n",
    "    classifier_length=CLASSIFIER_LENGTH,\n",
    "    number_of_possible_actions=NUMBER_OF_POSSIBLE_ACTIONS,\n",
    "    user_metrics_collector_fcn=_maze_metrics,\n",
    "    metrics_trial_frequency=1,\n",
    "    do_ga=DO_GA_EXPLORE,\n",
    "    do_subsumption=DO_SUBSUMPTION_EXPLORE,\n",
    "    do_action_planning=DO_ACTION_PLANNING_EXPLORE,\n",
    "    action_planning_frequency=50,\n",
    "    beta=BETA_EXPLORE,\n",
    "    gamma=0.95,\n",
    "    theta_i=0.1,\n",
    "    theta_r=0.9,\n",
    "    prob_x=PROBABILITY_X,\n",
    "    u_max=CLASSIFIER_LENGTH,\n",
    "    theta_exp=20,\n",
    "    theta_ga=100,\n",
    "    theta_as=20,\n",
    "    mu=0.3,\n",
    "    chi=0.8\n",
    ")\n",
    "\n",
    "cfg_exploit = Configuration(\n",
    "    classifier_length=CLASSIFIER_LENGTH,\n",
    "    number_of_possible_actions=NUMBER_OF_POSSIBLE_ACTIONS,\n",
    "    user_metrics_collector_fcn=_maze_metrics,\n",
    "    metrics_trial_frequency=1,\n",
    "    do_ga=False,\n",
    "    do_subsumption=DO_SUBSUMPTION_EXPLOIT,\n",
    "    do_action_planning=DO_ACTION_PLANNING_EXPLOIT,\n",
    "    action_planning_frequency=50,\n",
    "    beta=BETA_EXPLOIT,\n",
    "    gamma=0.95,\n",
    "    theta_i=0.1,\n",
    "    theta_r=0.9,\n",
    "    prob_x=0.0,\n",
    "    u_max=CLASSIFIER_LENGTH,\n",
    "    theta_exp=20,\n",
    "    theta_ga=100,\n",
    "    theta_as=20,\n",
    "    mu=0.3,\n",
    "    chi=0.8\n",
    ")"
   ]
  },
  {
   "cell_type": "markdown",
   "metadata": {},
   "source": [
    "### Benchmarking - Maze"
   ]
  },
  {
   "cell_type": "code",
   "execution_count": null,
   "metadata": {
    "scrolled": false
   },
   "outputs": [],
   "source": [
    "def bench_on_maze(env):\n",
    "    avg_explore_list = []\n",
    "    avg_exploit_list = []\n",
    "    \n",
    "    for i in range(30):\n",
    "        \n",
    "        # Initialize environment\n",
    "        maze = gym.make(env.id)\n",
    "        \n",
    "        # Reset it, by putting an agent into random position\n",
    "        situation = maze.reset()\n",
    "    \n",
    "        # Training of MACS - Exploration\n",
    "        agent_explore = MACS(cfg_explore)\n",
    "        population_explore, metrics_explore = agent_explore.explore(maze, NUMBER_OF_EXPLORE_TRIALS)\n",
    "    \n",
    "        # Using MACS - Exploitation\n",
    "        agent_exploit = MACS(cfg_exploit, population_explore)\n",
    "        agent_exploit.clean_population()\n",
    "        population_exploit, metrics_exploit = agent_exploit.exploit(maze, NUMBER_OF_EXPLOIT_TRIALS)\n",
    "\n",
    "        # Plotting performance\n",
    "        #metrics_df = parse_metrics_to_df(metrics_explore, metrics_exploit)\n",
    "        #plot_performance(agent_exploit, maze, metrics_df, cfg_exploit, env.id)\n",
    "        \n",
    "        # Get average in exploration\n",
    "        avg_step_explore = 0\n",
    "        for trial in metrics_explore:\n",
    "            avg_step_explore += trial['steps_in_trial']\n",
    "        avg_step_explore /= NUMBER_OF_EXPLORE_TRIALS\n",
    "        avg_explore_list.append(avg_step_explore)\n",
    "        \n",
    "        # Get average in exploitation\n",
    "        avg_step_exploit = 0\n",
    "        for trial in metrics_exploit:\n",
    "            avg_step_exploit += trial['steps_in_trial']\n",
    "        avg_step_exploit /= NUMBER_OF_EXPLOIT_TRIALS\n",
    "        avg_exploit_list.append(avg_step_exploit)\n",
    "        \n",
    "        print(env.id,'|','#' * (i+1) ,' ' * (30-(i+1)), '|')\n",
    "        \n",
    "    avg_explore = float(sum(avg_explore_list)) / 30\n",
    "    avg_exploit = float(sum(avg_exploit_list)) / 30\n",
    "    \n",
    "    print(\"Statistical Average number of steps to solve \", env.id ,\" is \",avg_explore, \" for a total of \", NUMBER_OF_EXPLORE_TRIALS, \" trials in EXPLORATION and is \",avg_exploit, \" for a total of \", NUMBER_OF_EXPLOIT_TRIALS, \" trials in EXPLOITATION\")\n",
    " \n",
    "    return {'maze' : env.id,'avg_explore' : avg_explore,'avg_exploit' : avg_exploit}"
   ]
  },
  {
   "cell_type": "markdown",
   "metadata": {},
   "source": [
    "Benchmarking without the genetic algorithms :"
   ]
  },
  {
   "cell_type": "code",
   "execution_count": null,
   "metadata": {
    "scrolled": false
   },
   "outputs": [],
   "source": [
    "# Custom function for obtaining available environments\n",
    "filter_envs = lambda env: env.id.startswith(\"Maze\") or env.id.startswith(\"Woods\") \\\n",
    "    or env.id.startswith(\"Littman\") or env.id.startswith(\"Miyazaki\")\n",
    "\n",
    "all_envs = [env for env in gym.envs.registry.all()]\n",
    "maze_envs = [env for env in all_envs if filter_envs(env)]\n",
    "\n",
    "parmap.map(bench_on_maze, maze_envs, pm_pbar=True)\n",
    "#y = [bench_on_maze(x) for x in maze_envs]"
   ]
  },
  {
   "cell_type": "markdown",
   "metadata": {},
   "source": [
    "Benchmarking with the genetic algorithms :"
   ]
  },
  {
   "cell_type": "code",
   "execution_count": null,
   "metadata": {},
   "outputs": [],
   "source": [
    "#cfg_explore.do_ga = True\n",
    "\n",
    "# Custom function for obtaining available environments\n",
    "#filter_envs = lambda env: env.id.startswith(\"Maze\") or env.id.startswith(\"Woods\") \\\n",
    "#    or env.id.startswith(\"Littman\") or env.id.startswith(\"Miyazaki\")\n",
    "\n",
    "#all_envs = [env for env in gym.envs.registry.all()]\n",
    "#maze_envs = [env for env in all_envs if filter_envs(env)]\n",
    "\n",
    "#parmap.map(bench_on_maze, maze_envs, pm_pbar=True)\n",
    "#y = [bench_on_maze(x) for x in maze_envs]"
   ]
  },
  {
   "cell_type": "markdown",
   "metadata": {},
   "source": [
    " ### Last results\n",
    " \n",
    " In all case, without action planning, with subsumption exploration, $\\gamma$ = 0.95, $\\theta_i$ = 0.1,$\\theta_r$ = 0.9, $u_{max}$ = 8 (length of the classifier), $\\theta_{exp}$ = 20,\n",
    " \n",
    " In exploration, $\\beta$ = 0.025, $prob_x$ = 0.3.\n",
    " \n",
    " If genetic algorithms are used, $\\theta_{ga}$ = 100, $\\theta_{as}$ = 20, $\\mu$ = 0.3 and $\\chi$ = 0.8,\n",
    " \n",
    " For 1000 trials in Exploration and 500 trials in Exploitation for all environments, computed 30 times for calculating all averages.\n",
    " \n",
    " \n",
    "| env.id      | Exploration Avg W\\out GA | Exploitation Avg W\\out GA | Exploration Avg W\\ GA | Exploitation Avg W\\ GA |\n",
    "| ----------- |:------------------------:|:-------------------------:|:---------------------:|:--------------------:|\n",
    "| MazeE1      | 0 | 0 | 0 | 0 |\n",
    "| MazeE2      | 0 | 0 | 0 | 0 |\n",
    "| MazeF1      | 40.09 | 1.846 | 0 | 0 |\n",
    "| MazeF2      | 76.38 | 2.521 | 0 | 0 |\n",
    "| MazeF3      | 77.95 | 3.387 | 0 | 0 |\n",
    "| MazeF4      | 79.59 | 61.39 | 0 | 0 |\n",
    "| Woods1      | 0 | 0 | 0 | 0 |\n",
    "| Woods14     | 92.06 | 15.04 | 0 | 0 |\n",
    "| Woods100    | 0 | 0 | 0 | 0 |\n",
    "| Woods101    | 0 | 0 | 0 | 0 |\n",
    "| Woods101demi| 0 | 0 | 0 | 0 |\n",
    "| Woods102    | 0 | 0 | 0 | 0 |\n",
    "| Littman57   | 58.69 | 70.95 | 0 | 0 |\n",
    "| Maze4       | 71.93 | 6.997 | 0 | 0 |\n",
    "| Maze5       | 0 | 0 | 0 | 0 |\n",
    "| Maze6       | 0 | 0 | 0 | 0 |\n",
    "| Maze7       | 77.26 | 53.57 | 0 | 0 |\n",
    "| Maze10      | 0 | 0 | 0 | 0 |\n",
    "| MiyazakiA   | 0 | 0 | 0 | 0 |\n"
   ]
  },
  {
   "cell_type": "code",
   "execution_count": null,
   "metadata": {},
   "outputs": [],
   "source": []
  }
 ],
 "metadata": {
  "kernelspec": {
   "display_name": "Python 3",
   "language": "python",
   "name": "python3"
  },
  "language_info": {
   "codemirror_mode": {
    "name": "ipython",
    "version": 3
   },
   "file_extension": ".py",
   "mimetype": "text/x-python",
   "name": "python",
   "nbconvert_exporter": "python",
   "pygments_lexer": "ipython3",
   "version": "3.7.4"
  }
 },
 "nbformat": 4,
 "nbformat_minor": 1
}
