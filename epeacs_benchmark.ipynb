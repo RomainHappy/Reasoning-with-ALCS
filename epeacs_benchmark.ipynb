{
 "cells": [
  {
   "cell_type": "markdown",
   "metadata": {},
   "source": [
    "\n",
    "    This Source Code Form is subject to the terms of the Mozilla Public\n",
    "    License, v. 2.0. If a copy of the MPL was not distributed with this\n",
    "    file, You can obtain one at http://mozilla.org/MPL/2.0/.\n"
   ]
  },
  {
   "cell_type": "code",
   "execution_count": 1,
   "metadata": {
    "scrolled": false
   },
   "outputs": [],
   "source": [
    "# Enable automatic module reload\n",
    "%load_ext autoreload\n",
    "%autoreload 2\n",
    "\n",
    "# Load EPEACS module\n",
    "from epeacs.agents.epeacs import EPEACS, Configuration\n",
    "\n",
    "from epeacs.metrics import \\\n",
    "    _maze_metrics, \\\n",
    "    _how_many_peps_match_non_aliased_states, \\\n",
    "    _mean_reliable_classifier_specificity, \\\n",
    "    _when_full_knowledge_is_achieved, \\\n",
    "    _state_of_population, \\\n",
    "    _enhanced_effect_error\n",
    "\n",
    "# Load environments\n",
    "import gym\n",
    "import my_mazes\n",
    "\n",
    "# Allow to parallelize all benchmarks to do\n",
    "import parmap\n",
    "\n",
    "# For calculation standard deviation\n",
    "import statistics"
   ]
  },
  {
   "cell_type": "markdown",
   "metadata": {},
   "source": [
    "# Agent - EPEACS - BENCHMARKING"
   ]
  },
  {
   "cell_type": "markdown",
   "metadata": {},
   "source": [
    "## Main Parameters"
   ]
  },
  {
   "cell_type": "code",
   "execution_count": 2,
   "metadata": {
    "scrolled": false
   },
   "outputs": [],
   "source": [
    "RANDOM_ATTRIBUTE_LENGTH = 1\n",
    "CLASSIFIER_LENGTH = 8 + RANDOM_ATTRIBUTE_LENGTH\n",
    "NUMBER_OF_POSSIBLE_ACTIONS = 8\n",
    "\n",
    "NUMBER_OF_EXPLORE_TRIALS = 100\n",
    "METRICS_TRIAL_FREQUENCY_EXPLORE = 10\n",
    "BETA_ALP = 0.05\n",
    "BETA_RL = 0.05\n",
    "BETA_PEP = 0.01\n",
    "EPSILON = 0.8\n",
    "\n",
    "DO_GA = True\n",
    "ENABLE_PEP = True\n",
    "\n",
    "SLIPPERY_PROB = 0.25\n",
    "\n",
    "NUMBER_OF_ITERATIONS_TO_BENCH = 30\n",
    "\n",
    "NB_OF_PROCESSES = 60"
   ]
  },
  {
   "cell_type": "markdown",
   "metadata": {},
   "source": [
    "## Full Details of Agent Parameters"
   ]
  },
  {
   "cell_type": "code",
   "execution_count": 3,
   "metadata": {},
   "outputs": [],
   "source": [
    "cfg_explore = Configuration(\n",
    "    classifier_length=CLASSIFIER_LENGTH,\n",
    "    number_of_possible_actions=NUMBER_OF_POSSIBLE_ACTIONS,\n",
    "    user_metrics_collector_fcn=_maze_metrics,\n",
    "    metrics_trial_frequency=METRICS_TRIAL_FREQUENCY_EXPLORE,\n",
    "    do_pep=ENABLE_PEP,\n",
    "    do_ga=DO_GA,\n",
    "    beta_alp=BETA_ALP,\n",
    "    beta_rl=BETA_RL,\n",
    "    beta_pep=BETA_PEP,\n",
    "    gamma=0.95,\n",
    "    theta_i=0.1,\n",
    "    theta_r=0.9,\n",
    "    epsilon=EPSILON,\n",
    "    u_max=CLASSIFIER_LENGTH,\n",
    "    theta_exp=20,\n",
    "    theta_ga=100,\n",
    "    theta_as=20,\n",
    "    mu=0.3,\n",
    "    chi=0.8\n",
    ")"
   ]
  },
  {
   "cell_type": "markdown",
   "metadata": {},
   "source": [
    "### Benchmarking - Maze"
   ]
  },
  {
   "cell_type": "markdown",
   "metadata": {},
   "source": [
    "Custom functions for getting available environments in Gym depending on the type of mazes :"
   ]
  },
  {
   "cell_type": "code",
   "execution_count": 4,
   "metadata": {},
   "outputs": [],
   "source": [
    "filter_envs_typeIII = lambda env: env.id.startswith(\"Maze10-\") or env.id.startswith(\"MazeE1\") \\\n",
    "    or env.id.startswith(\"MazeE2\") or env.id.startswith(\"Woods10\")\n",
    "\n",
    "filter_envs_typeII = lambda env: env.id.startswith(\"MazeF4\") or env.id.startswith(\"Maze7\") \\\n",
    "    or env.id.startswith(\"MiyazakiB\")\n",
    "\n",
    "filter_envs_typeI = lambda env: env.id.startswith(\"MazeB\") or env.id.startswith(\"MazeD\") \\\n",
    "    or env.id.startswith(\"Littman\") or env.id.startswith(\"MiyazakiA\") \\\n",
    "    or env.id.startswith(\"Cassandra\")\n",
    "\n",
    "filter_envs_na = lambda env: env.id.startswith(\"MazeF1\") or env.id.startswith(\"MazeF2\") \\\n",
    "    or env.id.startswith(\"MazeF3\") or env.id.startswith(\"Woods14\") \\\n",
    "    or env.id.startswith(\"Maze4\") or env.id.startswith(\"Maze5\") \\\n",
    "    or env.id.startswith(\"MazeA\")\n",
    "\n",
    "all_envs = [env for env in gym.envs.registry.all()]"
   ]
  },
  {
   "cell_type": "markdown",
   "metadata": {},
   "source": [
    "Function to get benchmark value on one gym environment :"
   ]
  },
  {
   "cell_type": "code",
   "execution_count": 5,
   "metadata": {
    "scrolled": false
   },
   "outputs": [],
   "source": [
    "def bench_on_maze(env):\n",
    "        \n",
    "    # Initialize environment\n",
    "    maze = gym.make(env.id)\n",
    "    \n",
    "    # Set up probability to do a random action\n",
    "    maze.env.set_prob_slippery(SLIPPERY_PROB)\n",
    "    \n",
    "    # Set up random attribute length\n",
    "    maze.env.set_random_attribute_length(RANDOM_ATTRIBUTE_LENGTH)\n",
    "\n",
    "    # Reset it, by putting an agent into random position\n",
    "    situation = maze.reset()\n",
    "\n",
    "    # Training of EPEACS - Exploration\n",
    "    agent_explore = EPEACS(cfg_explore)\n",
    "    population_explore, metrics_explore = agent_explore.explore(maze, NUMBER_OF_EXPLORE_TRIALS)\n",
    "\n",
    "    # Get population metrics\n",
    "    mean_reliable_classifier_specificity = _mean_reliable_classifier_specificity(population_explore, maze)\n",
    "    first_trial, stable_trial, last_trial = _when_full_knowledge_is_achieved(metrics_explore)\n",
    "    full_knowledge_trial_state_of_population = _state_of_population(metrics_explore, last_trial, METRICS_TRIAL_FREQUENCY_EXPLORE)\n",
    "    old_pep_error, new_pep_error = _enhanced_effect_error(population_explore, maze, CLASSIFIER_LENGTH, RANDOM_ATTRIBUTE_LENGTH)\n",
    "    \n",
    "    result = {\n",
    "        'maze' : env.id,\n",
    "        'knowledge' : metrics_explore[-1]['knowledge'],\n",
    "        'population' : metrics_explore[-1]['population'],\n",
    "        'numerosity' : metrics_explore[-1]['numerosity'],\n",
    "        'reliable' : metrics_explore[-1]['reliable'],\n",
    "        'mean_reliable_classifier_specificity' : mean_reliable_classifier_specificity,\n",
    "        'full_knowledge_first_trial' : first_trial,\n",
    "        'full_knowledge_stable_trial' : stable_trial,\n",
    "        'full_knowledge_last_trial' : last_trial,\n",
    "        'full_knowledge_last_trial_state_of_population' : full_knowledge_trial_state_of_population,\n",
    "        'old_pep_error': old_pep_error,\n",
    "        'new_pep_error': new_pep_error\n",
    "    }\n",
    "    \n",
    "    return result"
   ]
  },
  {
   "cell_type": "markdown",
   "metadata": {},
   "source": [
    "Benchmarking :"
   ]
  },
  {
   "cell_type": "code",
   "execution_count": null,
   "metadata": {
    "scrolled": false
   },
   "outputs": [
    {
     "name": "stderr",
     "output_type": "stream",
     "text": [
      "  6%|▋         | 44/690 [01:22<20:55,  1.94s/it] "
     ]
    }
   ],
   "source": [
    "maze_envs = []\n",
    "maze_envs_name = []\n",
    "for env in all_envs:\n",
    "    if filter_envs_typeIII(env) or filter_envs_typeII(env) or filter_envs_typeI(env) or filter_envs_na(env):\n",
    "    #if env.id.startswith(\"Woods100\"):\n",
    "        maze_envs_name.append(env.id)\n",
    "        for i in range(NUMBER_OF_ITERATIONS_TO_BENCH):\n",
    "            maze_envs.append(env)\n",
    "\n",
    "parmap_results = parmap.map(bench_on_maze, maze_envs, pm_pbar=True, pm_processes=NB_OF_PROCESSES, pm_chunksize=1)"
   ]
  },
  {
   "cell_type": "code",
   "execution_count": null,
   "metadata": {
    "scrolled": false
   },
   "outputs": [],
   "source": [
    "def compute_mean_and_stdev_for_one_env(env_name, parmap_results):\n",
    "    knowledge_list = []\n",
    "    population_list = []\n",
    "    numerosity_list = []\n",
    "    reliable_list = []\n",
    "    mean_reliable_classifier_specificity_list = []\n",
    "    full_knowledge_first_trial_list = []\n",
    "    full_knowledge_stable_trial_list = []\n",
    "    full_knowledge_last_trial_list = []\n",
    "    full_knowledge_last_trial_state_of_population_list = []\n",
    "    old_pep_error_list = []\n",
    "    new_pep_error_list = []\n",
    "\n",
    "    for res in parmap_results:\n",
    "        if res['maze'] == env_name:\n",
    "            knowledge_list.append(res['knowledge'])\n",
    "            population_list.append(res['population'])\n",
    "            numerosity_list.append(res['numerosity'])\n",
    "            reliable_list.append(res['reliable'])\n",
    "            mean_reliable_classifier_specificity_list.append(res['mean_reliable_classifier_specificity'])\n",
    "            full_knowledge_first_trial_list.append(res['full_knowledge_first_trial'])\n",
    "            full_knowledge_stable_trial_list.append(res['full_knowledge_stable_trial'])\n",
    "            full_knowledge_last_trial_list.append(res['full_knowledge_last_trial'])\n",
    "            full_knowledge_last_trial_state_of_population_list.append(res['full_knowledge_last_trial_state_of_population'])\n",
    "            old_pep_error_list.append(res['old_pep_error'])\n",
    "            new_pep_error_list.append(res['new_pep_error'])\n",
    "    \n",
    "    # Compute the means and standard deviations\n",
    "    \n",
    "    avg_knowledge = statistics.mean(knowledge_list)\n",
    "    std_knowledge = statistics.stdev(knowledge_list)\n",
    "    \n",
    "    avg_population = statistics.mean(population_list)\n",
    "    std_population = statistics.stdev(population_list)\n",
    "    \n",
    "    avg_numerosity = statistics.mean(numerosity_list)\n",
    "    std_numerosity = statistics.stdev(numerosity_list)\n",
    "    \n",
    "    avg_reliable = statistics.mean(reliable_list)\n",
    "    std_reliable = statistics.stdev(reliable_list)\n",
    "    \n",
    "    avg_mean_reliable_classifier_specificity = statistics.mean(mean_reliable_classifier_specificity_list)\n",
    "    std_mean_reliable_classifier_specificity = statistics.stdev(mean_reliable_classifier_specificity_list)\n",
    "    \n",
    "    avg_full_knowledge_first_trial_list = statistics.mean(full_knowledge_first_trial_list)\n",
    "    std_full_knowledge_first_trial_list = statistics.stdev(full_knowledge_first_trial_list)\n",
    "    avg_full_knowledge_stable_trial_list = statistics.mean(full_knowledge_stable_trial_list)\n",
    "    std_full_knowledge_stable_trial_list = statistics.stdev(full_knowledge_stable_trial_list)\n",
    "    avg_full_knowledge_last_trial_list = statistics.mean(full_knowledge_last_trial_list)\n",
    "    std_full_knowledge_last_trial_list = statistics.stdev(full_knowledge_last_trial_list)\n",
    "    \n",
    "    avg_old_pep_error_list = statistics.mean(old_pep_error_list)\n",
    "    std_old_pep_error_list = statistics.stdev(old_pep_error_list)\n",
    "    avg_new_pep_error_list = statistics.mean(new_pep_error_list)\n",
    "    std_new_pep_error_list = statistics.stdev(new_pep_error_list)\n",
    "    \n",
    "    dic = {\n",
    "        'maze'             : env_name,\n",
    "        \n",
    "        'avg_knowledge'    : avg_knowledge,\n",
    "        'std_knowledge'    : std_knowledge,\n",
    "        \n",
    "        'avg_population'   : avg_population,\n",
    "        'std_population'   : std_population,\n",
    "        \n",
    "        'avg_numerosity'   : avg_numerosity,\n",
    "        'std_numerosity'   : std_numerosity,\n",
    "        \n",
    "        'avg_reliable'     : avg_reliable,\n",
    "        'std_reliable'     : std_reliable,\n",
    "        \n",
    "        'avg_mean_reliable_classifier_specificity' : avg_mean_reliable_classifier_specificity,\n",
    "        'std_mean_reliable_classifier_specificity' : std_mean_reliable_classifier_specificity,\n",
    "        \n",
    "        'avg_full_knowledge_first_trial_list' : avg_full_knowledge_first_trial_list,\n",
    "        'std_full_knowledge_first_trial_list' : std_full_knowledge_first_trial_list,\n",
    "        'avg_full_knowledge_stable_trial_list' : avg_full_knowledge_stable_trial_list,\n",
    "        'std_full_knowledge_stable_trial_list' : std_full_knowledge_stable_trial_list,\n",
    "        'avg_full_knowledge_last_trial_list' : avg_full_knowledge_last_trial_list,\n",
    "        'std_full_knowledge_last_trial_list' : std_full_knowledge_last_trial_list,\n",
    "        \n",
    "        'avg_old_pep_error_list' : avg_old_pep_error_list,\n",
    "        'std_old_pep_error_list' : std_old_pep_error_list,\n",
    "        'avg_new_pep_error_list' : avg_new_pep_error_list,\n",
    "        'std_new_pep_error_list' : std_new_pep_error_list,\n",
    "        \n",
    "        'knowledge_list' : knowledge_list,\n",
    "        'population_list' : population_list,\n",
    "        'numerosity_list' : numerosity_list,\n",
    "        'reliable_list' : reliable_list,\n",
    "        'mean_reliable_classifier_specificity_list' : mean_reliable_classifier_specificity_list,\n",
    "        'full_knowledge_first_trial_list' : full_knowledge_first_trial_list,\n",
    "        'full_knowledge_stable_trial_list' : full_knowledge_stable_trial_list,\n",
    "        'full_knowledge_last_trial_list' : full_knowledge_last_trial_list,\n",
    "        'full_knowledge_last_trial_state_of_population_list' : full_knowledge_last_trial_state_of_population_list,\n",
    "        'old_pep_error_list' : old_pep_error_list,\n",
    "        'new_pep_error_list' : new_pep_error_list\n",
    "    }\n",
    "    \n",
    "    return dic\n",
    "\n",
    "result = [ compute_mean_and_stdev_for_one_env(env_name, parmap_results) for env_name in maze_envs_name]"
   ]
  },
  {
   "cell_type": "code",
   "execution_count": null,
   "metadata": {},
   "outputs": [],
   "source": [
    "print(result)"
   ]
  }
 ],
 "metadata": {
  "file_extension": ".py",
  "kernelspec": {
   "display_name": "Python 3",
   "language": "python",
   "name": "python3"
  },
  "language_info": {
   "codemirror_mode": {
    "name": "ipython",
    "version": 3
   },
   "file_extension": ".py",
   "mimetype": "text/x-python",
   "name": "python",
   "nbconvert_exporter": "python",
   "pygments_lexer": "ipython3",
   "version": "3.7.4"
  },
  "mimetype": "text/x-python",
  "name": "python",
  "npconvert_exporter": "python",
  "pygments_lexer": "ipython3",
  "version": 3
 },
 "nbformat": 4,
 "nbformat_minor": 2
}
