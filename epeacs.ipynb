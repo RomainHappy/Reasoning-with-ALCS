{
 "cells": [
  {
   "cell_type": "markdown",
   "metadata": {},
   "source": [
    "\n",
    "    This Source Code Form is subject to the terms of the Mozilla Public\n",
    "    License, v. 2.0. If a copy of the MPL was not distributed with this\n",
    "    file, You can obtain one at http://mozilla.org/MPL/2.0/.\n"
   ]
  },
  {
   "cell_type": "code",
   "execution_count": null,
   "metadata": {},
   "outputs": [],
   "source": [
    "# Enable automatic module reload\n",
    "%load_ext autoreload\n",
    "%autoreload 2\n",
    "\n",
    "# Load EPEACS module\n",
    "from epeacs.agents.epeacs import EPEACS, Configuration\n",
    "\n",
    "from epeacs.agents.epeacs.utils.Plotting_wrapper import \\\n",
    "    parse_metrics_to_df, \\\n",
    "    plot_performance\n",
    "\n",
    "from epeacs.metrics import \\\n",
    "    _maze_metrics, \\\n",
    "    _how_many_peps_match_non_aliased_states, \\\n",
    "    _mean_reliable_classifier_specificity, \\\n",
    "    _when_full_knowledge_is_achieved, \\\n",
    "    _state_of_population, \\\n",
    "    _enhanced_effect_error\n",
    "\n",
    "# Load environments\n",
    "import gym\n",
    "import my_mazes"
   ]
  },
  {
   "cell_type": "markdown",
   "metadata": {},
   "source": [
    "# Agent - EPEACS"
   ]
  },
  {
   "cell_type": "markdown",
   "metadata": {},
   "source": [
    "## Common parameters"
   ]
  },
  {
   "cell_type": "code",
   "execution_count": null,
   "metadata": {},
   "outputs": [],
   "source": [
    "CLASSIFIER_LENGTH = 8\n",
    "NUMBER_OF_POSSIBLE_ACTIONS = 8\n",
    "\n",
    "MAZE = \"Woods100-v0\"\n",
    "\n",
    "NUMBER_OF_EXPLORE_TRIALS = 500\n",
    "METRICS_TRIAL_FREQUENCY_EXPLORE = 5\n",
    "BETA_ALP = 0.05\n",
    "BETA_RL = 0.05\n",
    "BETA_PEP = 0.01\n",
    "EPSILON = 0.8\n",
    "\n",
    "DO_GA = True\n",
    "DO_ZIP = True\n",
    "ENABLE_PEP = True\n",
    "\n",
    "SLIPPERY_PROB = 0.25"
   ]
  },
  {
   "cell_type": "markdown",
   "metadata": {},
   "source": [
    "## Environment - Maze"
   ]
  },
  {
   "cell_type": "code",
   "execution_count": null,
   "metadata": {},
   "outputs": [],
   "source": [
    "# Initialize environment\n",
    "maze = gym.make(MAZE)\n",
    "# Set up probability to do a random action\n",
    "maze.env.set_prob_slippery(SLIPPERY_PROB)\n",
    "# Reset it, by putting an agent into random position\n",
    "maze.reset()\n",
    "# Render the state in ASCII\n",
    "maze.render('aliasing_human')"
   ]
  },
  {
   "cell_type": "markdown",
   "metadata": {},
   "source": [
    "## Training of EPEACS - Exploration"
   ]
  },
  {
   "cell_type": "code",
   "execution_count": null,
   "metadata": {},
   "outputs": [],
   "source": [
    "%%time\n",
    "\n",
    "cfg_explore = Configuration(\n",
    "    classifier_length=CLASSIFIER_LENGTH,\n",
    "    number_of_possible_actions=NUMBER_OF_POSSIBLE_ACTIONS,\n",
    "    user_metrics_collector_fcn=_maze_metrics,\n",
    "    metrics_trial_frequency=METRICS_TRIAL_FREQUENCY_EXPLORE,\n",
    "    do_pep=ENABLE_PEP,\n",
    "    do_ga=DO_GA,\n",
    "    do_zip=DO_ZIP,\n",
    "    beta_alp=BETA_ALP,\n",
    "    beta_rl=BETA_RL,\n",
    "    beta_pep=BETA_PEP,\n",
    "    gamma=0.95,\n",
    "    theta_i=0.1,\n",
    "    theta_r=0.9,\n",
    "    epsilon=EPSILON,\n",
    "    u_max=CLASSIFIER_LENGTH,\n",
    "    theta_exp=20,\n",
    "    theta_ga=100,\n",
    "    theta_zip=1000,\n",
    "    theta_as=20,\n",
    "    mu=0.3,\n",
    "    chi=0.8\n",
    ")\n",
    "\n",
    "agent_explore = EPEACS(cfg_explore)\n",
    "population_explore, metrics_explore = agent_explore.explore(maze, NUMBER_OF_EXPLORE_TRIALS)"
   ]
  },
  {
   "cell_type": "markdown",
   "metadata": {},
   "source": [
    "### Performance"
   ]
  },
  {
   "cell_type": "code",
   "execution_count": null,
   "metadata": {
    "scrolled": false
   },
   "outputs": [],
   "source": [
    "metrics_trial_frequency_explore = cfg_explore.metrics_trial_frequency\n",
    "\n",
    "metrics_df = parse_metrics_to_df(metrics_explore, metrics_trial_frequency_explore, None, None)\n",
    "plot_performance(agent_explore, maze, metrics_df, cfg_explore, MAZE, metrics_trial_frequency_explore, None)"
   ]
  },
  {
   "cell_type": "code",
   "execution_count": null,
   "metadata": {},
   "outputs": [],
   "source": [
    "print(_maze_metrics(population_explore, maze))\n",
    "\n",
    "first_trial, stable_trial = _when_full_knowledge_is_achieved(metrics_explore)\n",
    "\n",
    "print(\"Full knowledge was achieved at trials \", first_trial, \" and was stable at \", stable_trial)\n",
    "\n",
    "print(\"There are \", _how_many_peps_match_non_aliased_states(population_explore, maze),\n",
    "      \" enhanced classifer(s) that match a non-aliased states.\")\n",
    "\n",
    "print(\"Mean reliable population specifity is \",\n",
    "      _mean_reliable_classifier_specificity(population_explore, maze))\n",
    "\n",
    "print(_state_of_population(metrics_explore, first_trial, METRICS_TRIAL_FREQUENCY_EXPLORE))\n",
    "\n",
    "old_error, new_error = _enhanced_effect_error(population_explore, maze)\n",
    "print(\"Accumulated Error on PEP Probabilities : old->\", old_error, \" new->\", new_error)"
   ]
  },
  {
   "cell_type": "code",
   "execution_count": null,
   "metadata": {},
   "outputs": [],
   "source": [
    "population_explore.sort(key=lambda cl: -cl.exp)\n",
    "population_explore_to_display = [(cl.condition, cl.action, cl.effect, cl.exp) for cl in population_explore\n",
    "    if cl.is_reliable() and cl.is_enhanced()]\n",
    "for cl in population_explore_to_display:\n",
    "    print(cl)\n",
    "    print(cl[2].print_detailled_counter())\n",
    "    print(\"\\n\")"
   ]
  }
 ],
 "metadata": {
  "file_extension": ".py",
  "kernelspec": {
   "display_name": "Python 3",
   "language": "python",
   "name": "python3"
  },
  "language_info": {
   "codemirror_mode": {
    "name": "ipython",
    "version": 3
   },
   "file_extension": ".py",
   "mimetype": "text/x-python",
   "name": "python",
   "nbconvert_exporter": "python",
   "pygments_lexer": "ipython3",
   "version": "3.7.6"
  },
  "mimetype": "text/x-python",
  "name": "python",
  "npconvert_exporter": "python",
  "pygments_lexer": "ipython3",
  "version": 3
 },
 "nbformat": 4,
 "nbformat_minor": 2
}
