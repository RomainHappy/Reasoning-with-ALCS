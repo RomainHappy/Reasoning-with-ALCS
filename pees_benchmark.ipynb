{
 "cells": [
  {
   "cell_type": "markdown",
   "metadata": {},
   "source": [
    "\n",
    "    This Source Code Form is subject to the terms of the Mozilla Public\n",
    "    License, v. 2.0. If a copy of the MPL was not distributed with this\n",
    "    file, You can obtain one at http://mozilla.org/MPL/2.0/.\n"
   ]
  },
  {
   "cell_type": "code",
   "execution_count": null,
   "metadata": {
    "scrolled": false
   },
   "outputs": [],
   "source": [
    "# Logger\n",
    "import logging\n",
    "logging.basicConfig(level=logging.WARN)\n",
    "\n",
    "# Enable automatic module reload\n",
    "%load_ext autoreload\n",
    "%autoreload 2\n",
    "\n",
    "# Load BACS module\n",
    "from bacs.agents.bacs import BACS, Configuration\n",
    "from bacs.agents.bacs.utils.GymMazeWrapper import _maze_metrics, _does_pees_match_non_aliased_states\n",
    "\n",
    "# Load environments\n",
    "import gym\n",
    "import my_mazes\n",
    "\n",
    "# Allow to parallelize all benchmarks to do\n",
    "import parmap\n",
    "\n",
    "# For calculation standard deviation\n",
    "import statistics"
   ]
  },
  {
   "cell_type": "markdown",
   "metadata": {},
   "source": [
    "# Agent - BACS - BENCHMARKING"
   ]
  },
  {
   "cell_type": "markdown",
   "metadata": {},
   "source": [
    "## Main Parameters"
   ]
  },
  {
   "cell_type": "code",
   "execution_count": null,
   "metadata": {
    "scrolled": false
   },
   "outputs": [],
   "source": [
    "CLASSIFIER_LENGTH = 8\n",
    "NUMBER_OF_POSSIBLE_ACTIONS = 8\n",
    "\n",
    "NUMBER_OF_EXPLORE_TRIALS = 1000\n",
    "METRICS_TRIAL_FREQUENCY_EXPLORE = 1\n",
    "BETA_EXPLORE = 0.05\n",
    "EPSILON = 0.8\n",
    "\n",
    "LENGTH_OF_BEHAVIORAL_SEQUENCES = 0\n",
    "\n",
    "NUMBER_OF_ITERATIONS_TO_BENCH = 30\n",
    "\n",
    "NB_OF_PROCESSES = 24\n",
    "\n",
    "DO_GA = True\n",
    "ENABLE_PEE = True"
   ]
  },
  {
   "cell_type": "markdown",
   "metadata": {},
   "source": [
    "## Full Details of Agent Parameters"
   ]
  },
  {
   "cell_type": "code",
   "execution_count": null,
   "metadata": {},
   "outputs": [],
   "source": [
    "cfg_explore = Configuration(\n",
    "    classifier_length=CLASSIFIER_LENGTH,\n",
    "    number_of_possible_actions=NUMBER_OF_POSSIBLE_ACTIONS,\n",
    "    user_metrics_collector_fcn=_maze_metrics,\n",
    "    metrics_trial_frequency=METRICS_TRIAL_FREQUENCY_EXPLORE,\n",
    "    do_pee=ENABLE_PEE,\n",
    "    do_ga=DO_GA,\n",
    "    beta=BETA_EXPLORE,\n",
    "    gamma=0.95,\n",
    "    theta_i=0.1,\n",
    "    theta_r=0.9,\n",
    "    epsilon=EPSILON,\n",
    "    u_max=CLASSIFIER_LENGTH,\n",
    "    theta_exp=20,\n",
    "    bs_max=LENGTH_OF_BEHAVIORAL_SEQUENCES\n",
    ")"
   ]
  },
  {
   "cell_type": "markdown",
   "metadata": {},
   "source": [
    "### Benchmarking - Maze"
   ]
  },
  {
   "cell_type": "code",
   "execution_count": null,
   "metadata": {
    "scrolled": false
   },
   "outputs": [],
   "source": [
    "def bench_on_maze(env,n):\n",
    "    knowledge_list = []\n",
    "    population_list = []\n",
    "    numerosity_list = []\n",
    "    reliable_list = []\n",
    "    pees_matching_non_aliased_states_list = []\n",
    "    \n",
    "    for i in range(n):\n",
    "        \n",
    "        # Initialize environment\n",
    "        maze = gym.make(env.id)\n",
    "        \n",
    "        # Reset it, by putting an agent into random position\n",
    "        situation = maze.reset()\n",
    "    \n",
    "        # Training of BACS - Exploration\n",
    "        agent_explore = BACS(cfg_explore)\n",
    "        population_explore, metrics_explore = agent_explore.explore(maze, NUMBER_OF_EXPLORE_TRIALS)\n",
    "        \n",
    "        # Get population metrics\n",
    "        knowledge_list.append(metrics_explore[-1]['knowledge'])\n",
    "        population_list.append(metrics_explore[-1]['population'])\n",
    "        numerosity_list.append(metrics_explore[-1]['numerosity'])\n",
    "        reliable_list.append(metrics_explore[-1]['reliable'])\n",
    "        pees_matching_non_aliased_states_list.append(\n",
    "            _does_pees_match_non_aliased_states(population_explore, maze))\n",
    "        \n",
    "        if i == n-1:\n",
    "            print(env.id,'|','#' * (i+1), '|')\n",
    "        else:\n",
    "            print(env.id,'|','#' * (i+1) ,' ' * (n-i-2), '|')\n",
    "    \n",
    "    \n",
    "    # Compute the means and standard deviations\n",
    "    avg_knowledge = statistics.mean(knowledge_list)\n",
    "    std_knowledge = statistics.stdev(knowledge_list)\n",
    "    avg_population = statistics.mean(population_list)\n",
    "    std_population = statistics.stdev(population_list)\n",
    "    avg_numerosity = statistics.mean(numerosity_list)\n",
    "    std_numerosity = statistics.stdev(numerosity_list)\n",
    "    avg_reliable = statistics.mean(reliable_list)\n",
    "    std_reliable = statistics.stdev(reliable_list)\n",
    "    avg_pees_matching_non_aliased_states = statistics.mean(pees_matching_non_aliased_states_list)\n",
    "    std_pees_matching_non_aliased_states = statistics.stdev(pees_matching_non_aliased_states_list)\n",
    "    \n",
    "    result = {\n",
    "        'maze'             : env.id,\n",
    "        \n",
    "        'avg_knowledge'    : avg_knowledge,\n",
    "        'std_knowledge'    : std_knowledge,\n",
    "        'avg_population'   : avg_population,\n",
    "        'std_population'   : std_population,\n",
    "        'avg_numerosity'   : avg_numerosity,\n",
    "        'std_numerosity'   : std_numerosity,\n",
    "        'avg_reliable'     : avg_reliable,\n",
    "        'std_reliable'     : std_reliable,\n",
    "        'avg_pees_matching_non_aliased_states' : avg_pees_matching_non_aliased_states,\n",
    "        'std_pees_matching_non_aliased_states' : std_pees_matching_non_aliased_states,\n",
    "        \n",
    "        'knowledge_list' : knowledge_list,\n",
    "        'population_list' : population_list,\n",
    "        'numerosity_list' : numerosity_list,\n",
    "        'reliable_list' : reliable_list,\n",
    "        'pees_matching_non_aliased_states_list' : pees_matching_non_aliased_states_list\n",
    "    }\n",
    "    \n",
    "    print(result)\n",
    "    \n",
    "    return result"
   ]
  },
  {
   "cell_type": "markdown",
   "metadata": {},
   "source": [
    "Custom functions for getting available environments in Gym depending on the type of mazes :"
   ]
  },
  {
   "cell_type": "code",
   "execution_count": null,
   "metadata": {},
   "outputs": [],
   "source": [
    "filter_envs_typeIII = lambda env: env.id.startswith(\"Maze10-\") or env.id.startswith(\"MazeE1\") \\\n",
    "    or env.id.startswith(\"MazeE2\") or env.id.startswith(\"Woods10\")\n",
    "\n",
    "filter_envs_typeII = lambda env: env.id.startswith(\"MazeF4\") or env.id.startswith(\"Maze7\") \\\n",
    "    or env.id.startswith(\"MiyazakiB\")\n",
    "\n",
    "filter_envs_typeI = lambda env: env.id.startswith(\"MazeB\") or env.id.startswith(\"MazeD\") \\\n",
    "    or env.id.startswith(\"Littman\") or env.id.startswith(\"MiyazakiA\") \\\n",
    "    or env.id.startswith(\"Cassandra\")\n",
    "\n",
    "filter_envs_na = lambda env: env.id.startswith(\"MazeF1\") or env.id.startswith(\"MazeF2\") \\\n",
    "    or env.id.startswith(\"MazeF3\") or env.id.startswith(\"Woods1-\") \\\n",
    "    or env.id.startswith(\"Woods14\") or env.id.startswith(\"Maze4\") \\\n",
    "    or env.id.startswith(\"Maze5\") or env.id.startswith(\"MazeA\")\n",
    "\n",
    "all_envs = [env for env in gym.envs.registry.all()]"
   ]
  },
  {
   "cell_type": "markdown",
   "metadata": {},
   "source": [
    "Benchmarking without the genetic algorithms :"
   ]
  },
  {
   "cell_type": "code",
   "execution_count": null,
   "metadata": {
    "scrolled": false
   },
   "outputs": [],
   "source": [
    "maze_envs = [env for env in all_envs if filter_envs_na(env) or filter_envs_typeI(env) or filter_envs_typeII(env) or filter_envs_typeIII(env)]\n",
    "\n",
    "results = parmap.map(bench_on_maze, maze_envs, NUMBER_OF_ITERATIONS_TO_BENCH, pm_pbar=True, pm_processes=NB_OF_PROCESSES)"
   ]
  },
  {
   "cell_type": "markdown",
   "metadata": {},
   "source": [
    "Parsing the previous result to get a markdown string for each environment :"
   ]
  },
  {
   "cell_type": "code",
   "execution_count": null,
   "metadata": {},
   "outputs": [],
   "source": [
    "markdown_str = ''\n",
    "\n",
    "for item in results:\n",
    "    markdown_str += '|BACS-'+str(LENGTH_OF_BEHAVIORAL_SEQUENCES)+'|'\n",
    "    markdown_str += item['maze'] + '|'\n",
    "    markdown_str += \"{:.3f}\".format(item['avg_knowledge']) + ' ('\n",
    "    markdown_str += \"{:.3f}\".format(item['std_knowledge']) + ')|'\n",
    "    markdown_str += \"{:.3f}\".format(item['avg_population']) + ' ('\n",
    "    markdown_str += \"{:.3f}\".format(item['std_population']) + ')|'\n",
    "    markdown_str += \"{:.3f}\".format(item['avg_reliable']) + ' ('\n",
    "    markdown_str += \"{:.3f}\".format(item['std_reliable']) + ')|'\n",
    "    markdown_str += '\\n'\n",
    "    \n",
    "print(markdown_str)"
   ]
  },
  {
   "cell_type": "code",
   "execution_count": null,
   "metadata": {},
   "outputs": [],
   "source": [
    "print(results)"
   ]
  }
 ],
 "metadata": {
  "file_extension": ".py",
  "kernelspec": {
   "display_name": "Python 3",
   "language": "python",
   "name": "python3"
  },
  "language_info": {
   "codemirror_mode": {
    "name": "ipython",
    "version": 3
   },
   "file_extension": ".py",
   "mimetype": "text/x-python",
   "name": "python",
   "nbconvert_exporter": "python",
   "pygments_lexer": "ipython3",
   "version": "3.7.6"
  },
  "mimetype": "text/x-python",
  "name": "python",
  "npconvert_exporter": "python",
  "pygments_lexer": "ipython3",
  "version": 3
 },
 "nbformat": 4,
 "nbformat_minor": 2
}
